{
 "cells": [
  {
   "cell_type": "code",
   "execution_count": 1,
   "id": "bbfd8896",
   "metadata": {
    "_cell_guid": "b1076dfc-b9ad-4769-8c92-a6c4dae69d19",
    "_uuid": "8f2839f25d086af736a60e9eeb907d3b93b6e0e5",
    "execution": {
     "iopub.execute_input": "2024-07-10T14:40:43.805442Z",
     "iopub.status.busy": "2024-07-10T14:40:43.805015Z",
     "iopub.status.idle": "2024-07-10T14:41:05.353292Z",
     "shell.execute_reply": "2024-07-10T14:41:05.351569Z"
    },
    "papermill": {
     "duration": 21.566038,
     "end_time": "2024-07-10T14:41:05.356936",
     "exception": false,
     "start_time": "2024-07-10T14:40:43.790898",
     "status": "completed"
    },
    "tags": []
   },
   "outputs": [
    {
     "data": {
      "text/html": [
       "<div>\n",
       "<style scoped>\n",
       "    .dataframe tbody tr th:only-of-type {\n",
       "        vertical-align: middle;\n",
       "    }\n",
       "\n",
       "    .dataframe tbody tr th {\n",
       "        vertical-align: top;\n",
       "    }\n",
       "\n",
       "    .dataframe thead th {\n",
       "        text-align: right;\n",
       "    }\n",
       "</style>\n",
       "<table border=\"1\" class=\"dataframe\">\n",
       "  <thead>\n",
       "    <tr style=\"text-align: right;\">\n",
       "      <th></th>\n",
       "      <th>id</th>\n",
       "      <th>Gender</th>\n",
       "      <th>Age</th>\n",
       "      <th>Driving_License</th>\n",
       "      <th>Region_Code</th>\n",
       "      <th>Previously_Insured</th>\n",
       "      <th>Vehicle_Age</th>\n",
       "      <th>Vehicle_Damage</th>\n",
       "      <th>Annual_Premium</th>\n",
       "      <th>Policy_Sales_Channel</th>\n",
       "      <th>Vintage</th>\n",
       "      <th>Response</th>\n",
       "    </tr>\n",
       "  </thead>\n",
       "  <tbody>\n",
       "    <tr>\n",
       "      <th>0</th>\n",
       "      <td>0</td>\n",
       "      <td>Male</td>\n",
       "      <td>21</td>\n",
       "      <td>1</td>\n",
       "      <td>35.0</td>\n",
       "      <td>0</td>\n",
       "      <td>1-2 Year</td>\n",
       "      <td>Yes</td>\n",
       "      <td>65101.0</td>\n",
       "      <td>124.0</td>\n",
       "      <td>187</td>\n",
       "      <td>0</td>\n",
       "    </tr>\n",
       "    <tr>\n",
       "      <th>1</th>\n",
       "      <td>1</td>\n",
       "      <td>Male</td>\n",
       "      <td>43</td>\n",
       "      <td>1</td>\n",
       "      <td>28.0</td>\n",
       "      <td>0</td>\n",
       "      <td>&gt; 2 Years</td>\n",
       "      <td>Yes</td>\n",
       "      <td>58911.0</td>\n",
       "      <td>26.0</td>\n",
       "      <td>288</td>\n",
       "      <td>1</td>\n",
       "    </tr>\n",
       "    <tr>\n",
       "      <th>2</th>\n",
       "      <td>2</td>\n",
       "      <td>Female</td>\n",
       "      <td>25</td>\n",
       "      <td>1</td>\n",
       "      <td>14.0</td>\n",
       "      <td>1</td>\n",
       "      <td>&lt; 1 Year</td>\n",
       "      <td>No</td>\n",
       "      <td>38043.0</td>\n",
       "      <td>152.0</td>\n",
       "      <td>254</td>\n",
       "      <td>0</td>\n",
       "    </tr>\n",
       "    <tr>\n",
       "      <th>3</th>\n",
       "      <td>3</td>\n",
       "      <td>Female</td>\n",
       "      <td>35</td>\n",
       "      <td>1</td>\n",
       "      <td>1.0</td>\n",
       "      <td>0</td>\n",
       "      <td>1-2 Year</td>\n",
       "      <td>Yes</td>\n",
       "      <td>2630.0</td>\n",
       "      <td>156.0</td>\n",
       "      <td>76</td>\n",
       "      <td>0</td>\n",
       "    </tr>\n",
       "    <tr>\n",
       "      <th>4</th>\n",
       "      <td>4</td>\n",
       "      <td>Female</td>\n",
       "      <td>36</td>\n",
       "      <td>1</td>\n",
       "      <td>15.0</td>\n",
       "      <td>1</td>\n",
       "      <td>1-2 Year</td>\n",
       "      <td>No</td>\n",
       "      <td>31951.0</td>\n",
       "      <td>152.0</td>\n",
       "      <td>294</td>\n",
       "      <td>0</td>\n",
       "    </tr>\n",
       "  </tbody>\n",
       "</table>\n",
       "</div>"
      ],
      "text/plain": [
       "   id  Gender  Age  Driving_License  Region_Code  Previously_Insured  \\\n",
       "0   0    Male   21                1         35.0                   0   \n",
       "1   1    Male   43                1         28.0                   0   \n",
       "2   2  Female   25                1         14.0                   1   \n",
       "3   3  Female   35                1          1.0                   0   \n",
       "4   4  Female   36                1         15.0                   1   \n",
       "\n",
       "  Vehicle_Age Vehicle_Damage  Annual_Premium  Policy_Sales_Channel  Vintage  \\\n",
       "0    1-2 Year            Yes         65101.0                 124.0      187   \n",
       "1   > 2 Years            Yes         58911.0                  26.0      288   \n",
       "2    < 1 Year             No         38043.0                 152.0      254   \n",
       "3    1-2 Year            Yes          2630.0                 156.0       76   \n",
       "4    1-2 Year             No         31951.0                 152.0      294   \n",
       "\n",
       "   Response  \n",
       "0         0  \n",
       "1         1  \n",
       "2         0  \n",
       "3         0  \n",
       "4         0  "
      ]
     },
     "execution_count": 1,
     "metadata": {},
     "output_type": "execute_result"
    }
   ],
   "source": [
    "import pandas as pd\n",
    "train=pd.read_csv('/kaggle/input/playground-series-s4e7/train.csv')\n",
    "train.head()"
   ]
  },
  {
   "cell_type": "code",
   "execution_count": 2,
   "id": "ce91ea97",
   "metadata": {
    "execution": {
     "iopub.execute_input": "2024-07-10T14:41:05.383965Z",
     "iopub.status.busy": "2024-07-10T14:41:05.383585Z",
     "iopub.status.idle": "2024-07-10T14:41:17.691746Z",
     "shell.execute_reply": "2024-07-10T14:41:17.690397Z"
    },
    "papermill": {
     "duration": 12.324817,
     "end_time": "2024-07-10T14:41:17.694332",
     "exception": false,
     "start_time": "2024-07-10T14:41:05.369515",
     "status": "completed"
    },
    "tags": []
   },
   "outputs": [
    {
     "data": {
      "text/html": [
       "<div>\n",
       "<style scoped>\n",
       "    .dataframe tbody tr th:only-of-type {\n",
       "        vertical-align: middle;\n",
       "    }\n",
       "\n",
       "    .dataframe tbody tr th {\n",
       "        vertical-align: top;\n",
       "    }\n",
       "\n",
       "    .dataframe thead th {\n",
       "        text-align: right;\n",
       "    }\n",
       "</style>\n",
       "<table border=\"1\" class=\"dataframe\">\n",
       "  <thead>\n",
       "    <tr style=\"text-align: right;\">\n",
       "      <th></th>\n",
       "      <th>id</th>\n",
       "      <th>Gender</th>\n",
       "      <th>Age</th>\n",
       "      <th>Driving_License</th>\n",
       "      <th>Region_Code</th>\n",
       "      <th>Previously_Insured</th>\n",
       "      <th>Vehicle_Age</th>\n",
       "      <th>Vehicle_Damage</th>\n",
       "      <th>Annual_Premium</th>\n",
       "      <th>Policy_Sales_Channel</th>\n",
       "      <th>Vintage</th>\n",
       "    </tr>\n",
       "  </thead>\n",
       "  <tbody>\n",
       "    <tr>\n",
       "      <th>0</th>\n",
       "      <td>11504798</td>\n",
       "      <td>Female</td>\n",
       "      <td>20</td>\n",
       "      <td>1</td>\n",
       "      <td>47.0</td>\n",
       "      <td>0</td>\n",
       "      <td>&lt; 1 Year</td>\n",
       "      <td>No</td>\n",
       "      <td>2630.0</td>\n",
       "      <td>160.0</td>\n",
       "      <td>228</td>\n",
       "    </tr>\n",
       "    <tr>\n",
       "      <th>1</th>\n",
       "      <td>11504799</td>\n",
       "      <td>Male</td>\n",
       "      <td>47</td>\n",
       "      <td>1</td>\n",
       "      <td>28.0</td>\n",
       "      <td>0</td>\n",
       "      <td>1-2 Year</td>\n",
       "      <td>Yes</td>\n",
       "      <td>37483.0</td>\n",
       "      <td>124.0</td>\n",
       "      <td>123</td>\n",
       "    </tr>\n",
       "    <tr>\n",
       "      <th>2</th>\n",
       "      <td>11504800</td>\n",
       "      <td>Male</td>\n",
       "      <td>47</td>\n",
       "      <td>1</td>\n",
       "      <td>43.0</td>\n",
       "      <td>0</td>\n",
       "      <td>1-2 Year</td>\n",
       "      <td>Yes</td>\n",
       "      <td>2630.0</td>\n",
       "      <td>26.0</td>\n",
       "      <td>271</td>\n",
       "    </tr>\n",
       "    <tr>\n",
       "      <th>3</th>\n",
       "      <td>11504801</td>\n",
       "      <td>Female</td>\n",
       "      <td>22</td>\n",
       "      <td>1</td>\n",
       "      <td>47.0</td>\n",
       "      <td>1</td>\n",
       "      <td>&lt; 1 Year</td>\n",
       "      <td>No</td>\n",
       "      <td>24502.0</td>\n",
       "      <td>152.0</td>\n",
       "      <td>115</td>\n",
       "    </tr>\n",
       "    <tr>\n",
       "      <th>4</th>\n",
       "      <td>11504802</td>\n",
       "      <td>Male</td>\n",
       "      <td>51</td>\n",
       "      <td>1</td>\n",
       "      <td>19.0</td>\n",
       "      <td>0</td>\n",
       "      <td>1-2 Year</td>\n",
       "      <td>No</td>\n",
       "      <td>34115.0</td>\n",
       "      <td>124.0</td>\n",
       "      <td>148</td>\n",
       "    </tr>\n",
       "  </tbody>\n",
       "</table>\n",
       "</div>"
      ],
      "text/plain": [
       "         id  Gender  Age  Driving_License  Region_Code  Previously_Insured  \\\n",
       "0  11504798  Female   20                1         47.0                   0   \n",
       "1  11504799    Male   47                1         28.0                   0   \n",
       "2  11504800    Male   47                1         43.0                   0   \n",
       "3  11504801  Female   22                1         47.0                   1   \n",
       "4  11504802    Male   51                1         19.0                   0   \n",
       "\n",
       "  Vehicle_Age Vehicle_Damage  Annual_Premium  Policy_Sales_Channel  Vintage  \n",
       "0    < 1 Year             No          2630.0                 160.0      228  \n",
       "1    1-2 Year            Yes         37483.0                 124.0      123  \n",
       "2    1-2 Year            Yes          2630.0                  26.0      271  \n",
       "3    < 1 Year             No         24502.0                 152.0      115  \n",
       "4    1-2 Year             No         34115.0                 124.0      148  "
      ]
     },
     "execution_count": 2,
     "metadata": {},
     "output_type": "execute_result"
    }
   ],
   "source": [
    "test=pd.read_csv('/kaggle/input/playground-series-s4e7/test.csv')\n",
    "test.head()"
   ]
  },
  {
   "cell_type": "code",
   "execution_count": 3,
   "id": "683f57e2",
   "metadata": {
    "execution": {
     "iopub.execute_input": "2024-07-10T14:41:17.721460Z",
     "iopub.status.busy": "2024-07-10T14:41:17.721010Z",
     "iopub.status.idle": "2024-07-10T14:41:17.746782Z",
     "shell.execute_reply": "2024-07-10T14:41:17.745666Z"
    },
    "papermill": {
     "duration": 0.042435,
     "end_time": "2024-07-10T14:41:17.749224",
     "exception": false,
     "start_time": "2024-07-10T14:41:17.706789",
     "status": "completed"
    },
    "tags": []
   },
   "outputs": [
    {
     "name": "stdout",
     "output_type": "stream",
     "text": [
      "<class 'pandas.core.frame.DataFrame'>\n",
      "RangeIndex: 11504798 entries, 0 to 11504797\n",
      "Data columns (total 12 columns):\n",
      " #   Column                Dtype  \n",
      "---  ------                -----  \n",
      " 0   id                    int64  \n",
      " 1   Gender                object \n",
      " 2   Age                   int64  \n",
      " 3   Driving_License       int64  \n",
      " 4   Region_Code           float64\n",
      " 5   Previously_Insured    int64  \n",
      " 6   Vehicle_Age           object \n",
      " 7   Vehicle_Damage        object \n",
      " 8   Annual_Premium        float64\n",
      " 9   Policy_Sales_Channel  float64\n",
      " 10  Vintage               int64  \n",
      " 11  Response              int64  \n",
      "dtypes: float64(3), int64(6), object(3)\n",
      "memory usage: 1.0+ GB\n"
     ]
    }
   ],
   "source": [
    "train.info()"
   ]
  },
  {
   "cell_type": "code",
   "execution_count": 4,
   "id": "d9236cd9",
   "metadata": {
    "execution": {
     "iopub.execute_input": "2024-07-10T14:41:17.777452Z",
     "iopub.status.busy": "2024-07-10T14:41:17.777022Z",
     "iopub.status.idle": "2024-07-10T14:41:21.896860Z",
     "shell.execute_reply": "2024-07-10T14:41:21.895754Z"
    },
    "papermill": {
     "duration": 4.137371,
     "end_time": "2024-07-10T14:41:21.899306",
     "exception": false,
     "start_time": "2024-07-10T14:41:17.761935",
     "status": "completed"
    },
    "tags": []
   },
   "outputs": [
    {
     "data": {
      "text/plain": [
       "id                      11504798\n",
       "Annual_Premium             51728\n",
       "Vintage                      290\n",
       "Policy_Sales_Channel         152\n",
       "Age                           66\n",
       "Region_Code                   54\n",
       "Vehicle_Age                    3\n",
       "Gender                         2\n",
       "Driving_License                2\n",
       "Previously_Insured             2\n",
       "Vehicle_Damage                 2\n",
       "Response                       2\n",
       "dtype: int64"
      ]
     },
     "execution_count": 4,
     "metadata": {},
     "output_type": "execute_result"
    }
   ],
   "source": [
    "train.nunique().sort_values(ascending=False)"
   ]
  },
  {
   "cell_type": "code",
   "execution_count": 5,
   "id": "fb8d6e88",
   "metadata": {
    "execution": {
     "iopub.execute_input": "2024-07-10T14:41:21.925715Z",
     "iopub.status.busy": "2024-07-10T14:41:21.925331Z",
     "iopub.status.idle": "2024-07-10T14:41:22.574739Z",
     "shell.execute_reply": "2024-07-10T14:41:22.573620Z"
    },
    "papermill": {
     "duration": 0.66555,
     "end_time": "2024-07-10T14:41:22.577339",
     "exception": false,
     "start_time": "2024-07-10T14:41:21.911789",
     "status": "completed"
    },
    "tags": []
   },
   "outputs": [
    {
     "data": {
      "text/html": [
       "<div>\n",
       "<style scoped>\n",
       "    .dataframe tbody tr th:only-of-type {\n",
       "        vertical-align: middle;\n",
       "    }\n",
       "\n",
       "    .dataframe tbody tr th {\n",
       "        vertical-align: top;\n",
       "    }\n",
       "\n",
       "    .dataframe thead th {\n",
       "        text-align: right;\n",
       "    }\n",
       "</style>\n",
       "<table border=\"1\" class=\"dataframe\">\n",
       "  <thead>\n",
       "    <tr style=\"text-align: right;\">\n",
       "      <th></th>\n",
       "      <th>Gender</th>\n",
       "      <th>Age</th>\n",
       "      <th>Driving_License</th>\n",
       "      <th>Region_Code</th>\n",
       "      <th>Previously_Insured</th>\n",
       "      <th>Vehicle_Age</th>\n",
       "      <th>Vehicle_Damage</th>\n",
       "      <th>Annual_Premium</th>\n",
       "      <th>Policy_Sales_Channel</th>\n",
       "      <th>Vintage</th>\n",
       "      <th>Response</th>\n",
       "    </tr>\n",
       "  </thead>\n",
       "  <tbody>\n",
       "    <tr>\n",
       "      <th>0</th>\n",
       "      <td>Male</td>\n",
       "      <td>21</td>\n",
       "      <td>1</td>\n",
       "      <td>35.0</td>\n",
       "      <td>0</td>\n",
       "      <td>1-2 Year</td>\n",
       "      <td>Yes</td>\n",
       "      <td>65101.0</td>\n",
       "      <td>124.0</td>\n",
       "      <td>187</td>\n",
       "      <td>0</td>\n",
       "    </tr>\n",
       "    <tr>\n",
       "      <th>1</th>\n",
       "      <td>Male</td>\n",
       "      <td>43</td>\n",
       "      <td>1</td>\n",
       "      <td>28.0</td>\n",
       "      <td>0</td>\n",
       "      <td>&gt; 2 Years</td>\n",
       "      <td>Yes</td>\n",
       "      <td>58911.0</td>\n",
       "      <td>26.0</td>\n",
       "      <td>288</td>\n",
       "      <td>1</td>\n",
       "    </tr>\n",
       "    <tr>\n",
       "      <th>2</th>\n",
       "      <td>Female</td>\n",
       "      <td>25</td>\n",
       "      <td>1</td>\n",
       "      <td>14.0</td>\n",
       "      <td>1</td>\n",
       "      <td>&lt; 1 Year</td>\n",
       "      <td>No</td>\n",
       "      <td>38043.0</td>\n",
       "      <td>152.0</td>\n",
       "      <td>254</td>\n",
       "      <td>0</td>\n",
       "    </tr>\n",
       "    <tr>\n",
       "      <th>3</th>\n",
       "      <td>Female</td>\n",
       "      <td>35</td>\n",
       "      <td>1</td>\n",
       "      <td>1.0</td>\n",
       "      <td>0</td>\n",
       "      <td>1-2 Year</td>\n",
       "      <td>Yes</td>\n",
       "      <td>2630.0</td>\n",
       "      <td>156.0</td>\n",
       "      <td>76</td>\n",
       "      <td>0</td>\n",
       "    </tr>\n",
       "    <tr>\n",
       "      <th>4</th>\n",
       "      <td>Female</td>\n",
       "      <td>36</td>\n",
       "      <td>1</td>\n",
       "      <td>15.0</td>\n",
       "      <td>1</td>\n",
       "      <td>1-2 Year</td>\n",
       "      <td>No</td>\n",
       "      <td>31951.0</td>\n",
       "      <td>152.0</td>\n",
       "      <td>294</td>\n",
       "      <td>0</td>\n",
       "    </tr>\n",
       "  </tbody>\n",
       "</table>\n",
       "</div>"
      ],
      "text/plain": [
       "   Gender  Age  Driving_License  Region_Code  Previously_Insured Vehicle_Age  \\\n",
       "0    Male   21                1         35.0                   0    1-2 Year   \n",
       "1    Male   43                1         28.0                   0   > 2 Years   \n",
       "2  Female   25                1         14.0                   1    < 1 Year   \n",
       "3  Female   35                1          1.0                   0    1-2 Year   \n",
       "4  Female   36                1         15.0                   1    1-2 Year   \n",
       "\n",
       "  Vehicle_Damage  Annual_Premium  Policy_Sales_Channel  Vintage  Response  \n",
       "0            Yes         65101.0                 124.0      187         0  \n",
       "1            Yes         58911.0                  26.0      288         1  \n",
       "2             No         38043.0                 152.0      254         0  \n",
       "3            Yes          2630.0                 156.0       76         0  \n",
       "4             No         31951.0                 152.0      294         0  "
      ]
     },
     "execution_count": 5,
     "metadata": {},
     "output_type": "execute_result"
    }
   ],
   "source": [
    "train=train.drop(['id'],axis=1)\n",
    "train.head()"
   ]
  },
  {
   "cell_type": "code",
   "execution_count": 6,
   "id": "9de29e0e",
   "metadata": {
    "execution": {
     "iopub.execute_input": "2024-07-10T14:41:22.605194Z",
     "iopub.status.busy": "2024-07-10T14:41:22.604227Z",
     "iopub.status.idle": "2024-07-10T14:41:23.023327Z",
     "shell.execute_reply": "2024-07-10T14:41:23.022266Z"
    },
    "papermill": {
     "duration": 0.435602,
     "end_time": "2024-07-10T14:41:23.025770",
     "exception": false,
     "start_time": "2024-07-10T14:41:22.590168",
     "status": "completed"
    },
    "tags": []
   },
   "outputs": [
    {
     "data": {
      "text/html": [
       "<div>\n",
       "<style scoped>\n",
       "    .dataframe tbody tr th:only-of-type {\n",
       "        vertical-align: middle;\n",
       "    }\n",
       "\n",
       "    .dataframe tbody tr th {\n",
       "        vertical-align: top;\n",
       "    }\n",
       "\n",
       "    .dataframe thead th {\n",
       "        text-align: right;\n",
       "    }\n",
       "</style>\n",
       "<table border=\"1\" class=\"dataframe\">\n",
       "  <thead>\n",
       "    <tr style=\"text-align: right;\">\n",
       "      <th></th>\n",
       "      <th>Gender</th>\n",
       "      <th>Age</th>\n",
       "      <th>Driving_License</th>\n",
       "      <th>Region_Code</th>\n",
       "      <th>Previously_Insured</th>\n",
       "      <th>Vehicle_Age</th>\n",
       "      <th>Vehicle_Damage</th>\n",
       "      <th>Annual_Premium</th>\n",
       "      <th>Policy_Sales_Channel</th>\n",
       "      <th>Vintage</th>\n",
       "    </tr>\n",
       "  </thead>\n",
       "  <tbody>\n",
       "    <tr>\n",
       "      <th>0</th>\n",
       "      <td>Female</td>\n",
       "      <td>20</td>\n",
       "      <td>1</td>\n",
       "      <td>47.0</td>\n",
       "      <td>0</td>\n",
       "      <td>&lt; 1 Year</td>\n",
       "      <td>No</td>\n",
       "      <td>2630.0</td>\n",
       "      <td>160.0</td>\n",
       "      <td>228</td>\n",
       "    </tr>\n",
       "    <tr>\n",
       "      <th>1</th>\n",
       "      <td>Male</td>\n",
       "      <td>47</td>\n",
       "      <td>1</td>\n",
       "      <td>28.0</td>\n",
       "      <td>0</td>\n",
       "      <td>1-2 Year</td>\n",
       "      <td>Yes</td>\n",
       "      <td>37483.0</td>\n",
       "      <td>124.0</td>\n",
       "      <td>123</td>\n",
       "    </tr>\n",
       "    <tr>\n",
       "      <th>2</th>\n",
       "      <td>Male</td>\n",
       "      <td>47</td>\n",
       "      <td>1</td>\n",
       "      <td>43.0</td>\n",
       "      <td>0</td>\n",
       "      <td>1-2 Year</td>\n",
       "      <td>Yes</td>\n",
       "      <td>2630.0</td>\n",
       "      <td>26.0</td>\n",
       "      <td>271</td>\n",
       "    </tr>\n",
       "    <tr>\n",
       "      <th>3</th>\n",
       "      <td>Female</td>\n",
       "      <td>22</td>\n",
       "      <td>1</td>\n",
       "      <td>47.0</td>\n",
       "      <td>1</td>\n",
       "      <td>&lt; 1 Year</td>\n",
       "      <td>No</td>\n",
       "      <td>24502.0</td>\n",
       "      <td>152.0</td>\n",
       "      <td>115</td>\n",
       "    </tr>\n",
       "    <tr>\n",
       "      <th>4</th>\n",
       "      <td>Male</td>\n",
       "      <td>51</td>\n",
       "      <td>1</td>\n",
       "      <td>19.0</td>\n",
       "      <td>0</td>\n",
       "      <td>1-2 Year</td>\n",
       "      <td>No</td>\n",
       "      <td>34115.0</td>\n",
       "      <td>124.0</td>\n",
       "      <td>148</td>\n",
       "    </tr>\n",
       "  </tbody>\n",
       "</table>\n",
       "</div>"
      ],
      "text/plain": [
       "   Gender  Age  Driving_License  Region_Code  Previously_Insured Vehicle_Age  \\\n",
       "0  Female   20                1         47.0                   0    < 1 Year   \n",
       "1    Male   47                1         28.0                   0    1-2 Year   \n",
       "2    Male   47                1         43.0                   0    1-2 Year   \n",
       "3  Female   22                1         47.0                   1    < 1 Year   \n",
       "4    Male   51                1         19.0                   0    1-2 Year   \n",
       "\n",
       "  Vehicle_Damage  Annual_Premium  Policy_Sales_Channel  Vintage  \n",
       "0             No          2630.0                 160.0      228  \n",
       "1            Yes         37483.0                 124.0      123  \n",
       "2            Yes          2630.0                  26.0      271  \n",
       "3             No         24502.0                 152.0      115  \n",
       "4             No         34115.0                 124.0      148  "
      ]
     },
     "execution_count": 6,
     "metadata": {},
     "output_type": "execute_result"
    }
   ],
   "source": [
    "test=test.drop(['id'],axis=1)\n",
    "test.head()"
   ]
  },
  {
   "cell_type": "code",
   "execution_count": 7,
   "id": "02fb730b",
   "metadata": {
    "execution": {
     "iopub.execute_input": "2024-07-10T14:41:23.054881Z",
     "iopub.status.busy": "2024-07-10T14:41:23.054487Z",
     "iopub.status.idle": "2024-07-10T14:41:23.173746Z",
     "shell.execute_reply": "2024-07-10T14:41:23.172510Z"
    },
    "papermill": {
     "duration": 0.137435,
     "end_time": "2024-07-10T14:41:23.176674",
     "exception": false,
     "start_time": "2024-07-10T14:41:23.039239",
     "status": "completed"
    },
    "tags": []
   },
   "outputs": [
    {
     "data": {
      "text/plain": [
       "Response\n",
       "0    87.7\n",
       "1    12.3\n",
       "Name: count, dtype: float64"
      ]
     },
     "execution_count": 7,
     "metadata": {},
     "output_type": "execute_result"
    }
   ],
   "source": [
    "round(train['Response'].value_counts()*100/len(train),2)"
   ]
  },
  {
   "cell_type": "code",
   "execution_count": 8,
   "id": "4f069b73",
   "metadata": {
    "execution": {
     "iopub.execute_input": "2024-07-10T14:41:23.205726Z",
     "iopub.status.busy": "2024-07-10T14:41:23.204684Z",
     "iopub.status.idle": "2024-07-10T14:41:24.890225Z",
     "shell.execute_reply": "2024-07-10T14:41:24.888954Z"
    },
    "papermill": {
     "duration": 1.702776,
     "end_time": "2024-07-10T14:41:24.892979",
     "exception": false,
     "start_time": "2024-07-10T14:41:23.190203",
     "status": "completed"
    },
    "tags": []
   },
   "outputs": [
    {
     "data": {
      "text/plain": [
       "Gender                  0\n",
       "Age                     0\n",
       "Driving_License         0\n",
       "Region_Code             0\n",
       "Previously_Insured      0\n",
       "Vehicle_Age             0\n",
       "Vehicle_Damage          0\n",
       "Annual_Premium          0\n",
       "Policy_Sales_Channel    0\n",
       "Vintage                 0\n",
       "Response                0\n",
       "dtype: int64"
      ]
     },
     "execution_count": 8,
     "metadata": {},
     "output_type": "execute_result"
    }
   ],
   "source": [
    "train.isnull().sum()"
   ]
  },
  {
   "cell_type": "code",
   "execution_count": 9,
   "id": "62aec692",
   "metadata": {
    "execution": {
     "iopub.execute_input": "2024-07-10T14:41:24.922304Z",
     "iopub.status.busy": "2024-07-10T14:41:24.921875Z",
     "iopub.status.idle": "2024-07-10T14:41:25.807566Z",
     "shell.execute_reply": "2024-07-10T14:41:25.806216Z"
    },
    "papermill": {
     "duration": 0.903502,
     "end_time": "2024-07-10T14:41:25.810242",
     "exception": false,
     "start_time": "2024-07-10T14:41:24.906740",
     "status": "completed"
    },
    "tags": []
   },
   "outputs": [
    {
     "data": {
      "text/plain": [
       "Vehicle_Age\n",
       "1-2 Year     5982678\n",
       "< 1 Year     5044145\n",
       "> 2 Years     477975\n",
       "Name: count, dtype: int64"
      ]
     },
     "execution_count": 9,
     "metadata": {},
     "output_type": "execute_result"
    }
   ],
   "source": [
    "train['Vehicle_Age'].value_counts()"
   ]
  },
  {
   "cell_type": "code",
   "execution_count": 10,
   "id": "a59775b7",
   "metadata": {
    "execution": {
     "iopub.execute_input": "2024-07-10T14:41:25.844444Z",
     "iopub.status.busy": "2024-07-10T14:41:25.844019Z",
     "iopub.status.idle": "2024-07-10T14:41:31.539442Z",
     "shell.execute_reply": "2024-07-10T14:41:31.538192Z"
    },
    "papermill": {
     "duration": 5.714981,
     "end_time": "2024-07-10T14:41:31.541962",
     "exception": false,
     "start_time": "2024-07-10T14:41:25.826981",
     "status": "completed"
    },
    "tags": []
   },
   "outputs": [
    {
     "name": "stderr",
     "output_type": "stream",
     "text": [
      "/tmp/ipykernel_18/276297216.py:1: FutureWarning: Downcasting behavior in `replace` is deprecated and will be removed in a future version. To retain the old behavior, explicitly call `result.infer_objects(copy=False)`. To opt-in to the future behavior, set `pd.set_option('future.no_silent_downcasting', True)`\n",
      "  train['Vehicle_Age']=train['Vehicle_Age'].replace({'1-2 Year':1,\n"
     ]
    },
    {
     "data": {
      "text/plain": [
       "Vehicle_Age\n",
       "1    5982678\n",
       "0    5044145\n",
       "2     477975\n",
       "Name: count, dtype: int64"
      ]
     },
     "execution_count": 10,
     "metadata": {},
     "output_type": "execute_result"
    }
   ],
   "source": [
    "train['Vehicle_Age']=train['Vehicle_Age'].replace({'1-2 Year':1,\n",
    "                                                   '> 2 Years':2, \n",
    "                                                   '< 1 Year':0})\n",
    "train['Vehicle_Age'].value_counts()"
   ]
  },
  {
   "cell_type": "code",
   "execution_count": 11,
   "id": "d1dcb8ab",
   "metadata": {
    "execution": {
     "iopub.execute_input": "2024-07-10T14:41:31.570851Z",
     "iopub.status.busy": "2024-07-10T14:41:31.570416Z",
     "iopub.status.idle": "2024-07-10T14:41:35.256211Z",
     "shell.execute_reply": "2024-07-10T14:41:35.254911Z"
    },
    "papermill": {
     "duration": 3.70347,
     "end_time": "2024-07-10T14:41:35.259092",
     "exception": false,
     "start_time": "2024-07-10T14:41:31.555622",
     "status": "completed"
    },
    "tags": []
   },
   "outputs": [
    {
     "name": "stderr",
     "output_type": "stream",
     "text": [
      "/tmp/ipykernel_18/2808027606.py:1: FutureWarning: Downcasting behavior in `replace` is deprecated and will be removed in a future version. To retain the old behavior, explicitly call `result.infer_objects(copy=False)`. To opt-in to the future behavior, set `pd.set_option('future.no_silent_downcasting', True)`\n",
      "  test['Vehicle_Age']=test['Vehicle_Age'].replace({'1-2 Year':1,\n"
     ]
    },
    {
     "data": {
      "text/plain": [
       "Vehicle_Age\n",
       "1    3989276\n",
       "0    3361255\n",
       "2     319335\n",
       "Name: count, dtype: int64"
      ]
     },
     "execution_count": 11,
     "metadata": {},
     "output_type": "execute_result"
    }
   ],
   "source": [
    "test['Vehicle_Age']=test['Vehicle_Age'].replace({'1-2 Year':1,\n",
    "                                                   '> 2 Years':2, \n",
    "                                                   '< 1 Year':0})\n",
    "test['Vehicle_Age'].value_counts()"
   ]
  },
  {
   "cell_type": "code",
   "execution_count": 12,
   "id": "16f757a5",
   "metadata": {
    "execution": {
     "iopub.execute_input": "2024-07-10T14:41:35.289206Z",
     "iopub.status.busy": "2024-07-10T14:41:35.288309Z",
     "iopub.status.idle": "2024-07-10T14:41:36.143666Z",
     "shell.execute_reply": "2024-07-10T14:41:36.142632Z"
    },
    "papermill": {
     "duration": 0.872427,
     "end_time": "2024-07-10T14:41:36.145836",
     "exception": false,
     "start_time": "2024-07-10T14:41:35.273409",
     "status": "completed"
    },
    "tags": []
   },
   "outputs": [
    {
     "data": {
      "text/plain": [
       "Gender\n",
       "Male      6228134\n",
       "Female    5276664\n",
       "Name: count, dtype: int64"
      ]
     },
     "execution_count": 12,
     "metadata": {},
     "output_type": "execute_result"
    }
   ],
   "source": [
    "train['Gender'].value_counts()"
   ]
  },
  {
   "cell_type": "code",
   "execution_count": 13,
   "id": "18525188",
   "metadata": {
    "execution": {
     "iopub.execute_input": "2024-07-10T14:41:36.174949Z",
     "iopub.status.busy": "2024-07-10T14:41:36.174601Z",
     "iopub.status.idle": "2024-07-10T14:41:41.017331Z",
     "shell.execute_reply": "2024-07-10T14:41:41.016231Z"
    },
    "papermill": {
     "duration": 4.860031,
     "end_time": "2024-07-10T14:41:41.019690",
     "exception": false,
     "start_time": "2024-07-10T14:41:36.159659",
     "status": "completed"
    },
    "tags": []
   },
   "outputs": [
    {
     "name": "stderr",
     "output_type": "stream",
     "text": [
      "/tmp/ipykernel_18/1311896529.py:1: FutureWarning: Downcasting behavior in `replace` is deprecated and will be removed in a future version. To retain the old behavior, explicitly call `result.infer_objects(copy=False)`. To opt-in to the future behavior, set `pd.set_option('future.no_silent_downcasting', True)`\n",
      "  train['Gender']=train['Gender'].replace({'Male':0,\n"
     ]
    },
    {
     "data": {
      "text/plain": [
       "Gender\n",
       "0    6228134\n",
       "1    5276664\n",
       "Name: count, dtype: int64"
      ]
     },
     "execution_count": 13,
     "metadata": {},
     "output_type": "execute_result"
    }
   ],
   "source": [
    "train['Gender']=train['Gender'].replace({'Male':0,\n",
    "                                         'Female':1})\n",
    "train['Gender'].value_counts()"
   ]
  },
  {
   "cell_type": "code",
   "execution_count": 14,
   "id": "c477b22c",
   "metadata": {
    "execution": {
     "iopub.execute_input": "2024-07-10T14:41:41.049982Z",
     "iopub.status.busy": "2024-07-10T14:41:41.049145Z",
     "iopub.status.idle": "2024-07-10T14:41:44.253041Z",
     "shell.execute_reply": "2024-07-10T14:41:44.251790Z"
    },
    "papermill": {
     "duration": 3.221899,
     "end_time": "2024-07-10T14:41:44.255645",
     "exception": false,
     "start_time": "2024-07-10T14:41:41.033746",
     "status": "completed"
    },
    "tags": []
   },
   "outputs": [
    {
     "name": "stderr",
     "output_type": "stream",
     "text": [
      "/tmp/ipykernel_18/3059260769.py:1: FutureWarning: Downcasting behavior in `replace` is deprecated and will be removed in a future version. To retain the old behavior, explicitly call `result.infer_objects(copy=False)`. To opt-in to the future behavior, set `pd.set_option('future.no_silent_downcasting', True)`\n",
      "  test['Gender']=test['Gender'].replace({'Male':0,\n"
     ]
    },
    {
     "data": {
      "text/plain": [
       "Gender\n",
       "0    4151402\n",
       "1    3518464\n",
       "Name: count, dtype: int64"
      ]
     },
     "execution_count": 14,
     "metadata": {},
     "output_type": "execute_result"
    }
   ],
   "source": [
    "test['Gender']=test['Gender'].replace({'Male':0,\n",
    "                                         'Female':1})\n",
    "test['Gender'].value_counts()"
   ]
  },
  {
   "cell_type": "code",
   "execution_count": 15,
   "id": "8bab2132",
   "metadata": {
    "execution": {
     "iopub.execute_input": "2024-07-10T14:41:44.287028Z",
     "iopub.status.busy": "2024-07-10T14:41:44.286666Z",
     "iopub.status.idle": "2024-07-10T14:41:45.127776Z",
     "shell.execute_reply": "2024-07-10T14:41:45.126671Z"
    },
    "papermill": {
     "duration": 0.860134,
     "end_time": "2024-07-10T14:41:45.130043",
     "exception": false,
     "start_time": "2024-07-10T14:41:44.269909",
     "status": "completed"
    },
    "tags": []
   },
   "outputs": [
    {
     "data": {
      "text/plain": [
       "Vehicle_Damage\n",
       "Yes    5783229\n",
       "No     5721569\n",
       "Name: count, dtype: int64"
      ]
     },
     "execution_count": 15,
     "metadata": {},
     "output_type": "execute_result"
    }
   ],
   "source": [
    "train['Vehicle_Damage'].value_counts()"
   ]
  },
  {
   "cell_type": "code",
   "execution_count": 16,
   "id": "b54b7f0c",
   "metadata": {
    "execution": {
     "iopub.execute_input": "2024-07-10T14:41:45.160824Z",
     "iopub.status.busy": "2024-07-10T14:41:45.160409Z",
     "iopub.status.idle": "2024-07-10T14:41:49.999750Z",
     "shell.execute_reply": "2024-07-10T14:41:49.998672Z"
    },
    "papermill": {
     "duration": 4.857699,
     "end_time": "2024-07-10T14:41:50.002472",
     "exception": false,
     "start_time": "2024-07-10T14:41:45.144773",
     "status": "completed"
    },
    "tags": []
   },
   "outputs": [
    {
     "name": "stderr",
     "output_type": "stream",
     "text": [
      "/tmp/ipykernel_18/1728548997.py:1: FutureWarning: Downcasting behavior in `replace` is deprecated and will be removed in a future version. To retain the old behavior, explicitly call `result.infer_objects(copy=False)`. To opt-in to the future behavior, set `pd.set_option('future.no_silent_downcasting', True)`\n",
      "  train['Vehicle_Damage']=train['Vehicle_Damage'].replace({'Yes':1,\n"
     ]
    },
    {
     "data": {
      "text/plain": [
       "Vehicle_Damage\n",
       "1    5783229\n",
       "0    5721569\n",
       "Name: count, dtype: int64"
      ]
     },
     "execution_count": 16,
     "metadata": {},
     "output_type": "execute_result"
    }
   ],
   "source": [
    "train['Vehicle_Damage']=train['Vehicle_Damage'].replace({'Yes':1,\n",
    "                                                        'No':0})\n",
    "train['Vehicle_Damage'].value_counts()"
   ]
  },
  {
   "cell_type": "code",
   "execution_count": 17,
   "id": "1bba2af0",
   "metadata": {
    "execution": {
     "iopub.execute_input": "2024-07-10T14:41:50.033437Z",
     "iopub.status.busy": "2024-07-10T14:41:50.033023Z",
     "iopub.status.idle": "2024-07-10T14:41:53.236417Z",
     "shell.execute_reply": "2024-07-10T14:41:53.234946Z"
    },
    "papermill": {
     "duration": 3.22225,
     "end_time": "2024-07-10T14:41:53.239458",
     "exception": false,
     "start_time": "2024-07-10T14:41:50.017208",
     "status": "completed"
    },
    "tags": []
   },
   "outputs": [
    {
     "name": "stderr",
     "output_type": "stream",
     "text": [
      "/tmp/ipykernel_18/1147790440.py:1: FutureWarning: Downcasting behavior in `replace` is deprecated and will be removed in a future version. To retain the old behavior, explicitly call `result.infer_objects(copy=False)`. To opt-in to the future behavior, set `pd.set_option('future.no_silent_downcasting', True)`\n",
      "  test['Vehicle_Damage']=test['Vehicle_Damage'].replace({'Yes':1,\n"
     ]
    },
    {
     "data": {
      "text/plain": [
       "Vehicle_Damage\n",
       "1    3854463\n",
       "0    3815403\n",
       "Name: count, dtype: int64"
      ]
     },
     "execution_count": 17,
     "metadata": {},
     "output_type": "execute_result"
    }
   ],
   "source": [
    "test['Vehicle_Damage']=test['Vehicle_Damage'].replace({'Yes':1,\n",
    "                                                        'No':0})\n",
    "test['Vehicle_Damage'].value_counts()"
   ]
  },
  {
   "cell_type": "code",
   "execution_count": 18,
   "id": "5fafa728",
   "metadata": {
    "execution": {
     "iopub.execute_input": "2024-07-10T14:41:53.272563Z",
     "iopub.status.busy": "2024-07-10T14:41:53.272146Z",
     "iopub.status.idle": "2024-07-10T14:41:53.289446Z",
     "shell.execute_reply": "2024-07-10T14:41:53.288308Z"
    },
    "papermill": {
     "duration": 0.03751,
     "end_time": "2024-07-10T14:41:53.291793",
     "exception": false,
     "start_time": "2024-07-10T14:41:53.254283",
     "status": "completed"
    },
    "tags": []
   },
   "outputs": [
    {
     "data": {
      "text/html": [
       "<div>\n",
       "<style scoped>\n",
       "    .dataframe tbody tr th:only-of-type {\n",
       "        vertical-align: middle;\n",
       "    }\n",
       "\n",
       "    .dataframe tbody tr th {\n",
       "        vertical-align: top;\n",
       "    }\n",
       "\n",
       "    .dataframe thead th {\n",
       "        text-align: right;\n",
       "    }\n",
       "</style>\n",
       "<table border=\"1\" class=\"dataframe\">\n",
       "  <thead>\n",
       "    <tr style=\"text-align: right;\">\n",
       "      <th></th>\n",
       "      <th>Gender</th>\n",
       "      <th>Age</th>\n",
       "      <th>Driving_License</th>\n",
       "      <th>Region_Code</th>\n",
       "      <th>Previously_Insured</th>\n",
       "      <th>Vehicle_Age</th>\n",
       "      <th>Vehicle_Damage</th>\n",
       "      <th>Annual_Premium</th>\n",
       "      <th>Policy_Sales_Channel</th>\n",
       "      <th>Vintage</th>\n",
       "      <th>Response</th>\n",
       "    </tr>\n",
       "  </thead>\n",
       "  <tbody>\n",
       "    <tr>\n",
       "      <th>0</th>\n",
       "      <td>0</td>\n",
       "      <td>21</td>\n",
       "      <td>1</td>\n",
       "      <td>35.0</td>\n",
       "      <td>0</td>\n",
       "      <td>1</td>\n",
       "      <td>1</td>\n",
       "      <td>65101.0</td>\n",
       "      <td>124.0</td>\n",
       "      <td>187</td>\n",
       "      <td>0</td>\n",
       "    </tr>\n",
       "    <tr>\n",
       "      <th>1</th>\n",
       "      <td>0</td>\n",
       "      <td>43</td>\n",
       "      <td>1</td>\n",
       "      <td>28.0</td>\n",
       "      <td>0</td>\n",
       "      <td>2</td>\n",
       "      <td>1</td>\n",
       "      <td>58911.0</td>\n",
       "      <td>26.0</td>\n",
       "      <td>288</td>\n",
       "      <td>1</td>\n",
       "    </tr>\n",
       "    <tr>\n",
       "      <th>2</th>\n",
       "      <td>1</td>\n",
       "      <td>25</td>\n",
       "      <td>1</td>\n",
       "      <td>14.0</td>\n",
       "      <td>1</td>\n",
       "      <td>0</td>\n",
       "      <td>0</td>\n",
       "      <td>38043.0</td>\n",
       "      <td>152.0</td>\n",
       "      <td>254</td>\n",
       "      <td>0</td>\n",
       "    </tr>\n",
       "    <tr>\n",
       "      <th>3</th>\n",
       "      <td>1</td>\n",
       "      <td>35</td>\n",
       "      <td>1</td>\n",
       "      <td>1.0</td>\n",
       "      <td>0</td>\n",
       "      <td>1</td>\n",
       "      <td>1</td>\n",
       "      <td>2630.0</td>\n",
       "      <td>156.0</td>\n",
       "      <td>76</td>\n",
       "      <td>0</td>\n",
       "    </tr>\n",
       "    <tr>\n",
       "      <th>4</th>\n",
       "      <td>1</td>\n",
       "      <td>36</td>\n",
       "      <td>1</td>\n",
       "      <td>15.0</td>\n",
       "      <td>1</td>\n",
       "      <td>1</td>\n",
       "      <td>0</td>\n",
       "      <td>31951.0</td>\n",
       "      <td>152.0</td>\n",
       "      <td>294</td>\n",
       "      <td>0</td>\n",
       "    </tr>\n",
       "  </tbody>\n",
       "</table>\n",
       "</div>"
      ],
      "text/plain": [
       "   Gender  Age  Driving_License  Region_Code  Previously_Insured  Vehicle_Age  \\\n",
       "0       0   21                1         35.0                   0            1   \n",
       "1       0   43                1         28.0                   0            2   \n",
       "2       1   25                1         14.0                   1            0   \n",
       "3       1   35                1          1.0                   0            1   \n",
       "4       1   36                1         15.0                   1            1   \n",
       "\n",
       "   Vehicle_Damage  Annual_Premium  Policy_Sales_Channel  Vintage  Response  \n",
       "0               1         65101.0                 124.0      187         0  \n",
       "1               1         58911.0                  26.0      288         1  \n",
       "2               0         38043.0                 152.0      254         0  \n",
       "3               1          2630.0                 156.0       76         0  \n",
       "4               0         31951.0                 152.0      294         0  "
      ]
     },
     "execution_count": 18,
     "metadata": {},
     "output_type": "execute_result"
    }
   ],
   "source": [
    "train.head()"
   ]
  },
  {
   "cell_type": "code",
   "execution_count": 19,
   "id": "542d3c7e",
   "metadata": {
    "execution": {
     "iopub.execute_input": "2024-07-10T14:41:53.325472Z",
     "iopub.status.busy": "2024-07-10T14:41:53.325069Z",
     "iopub.status.idle": "2024-07-10T14:41:54.494552Z",
     "shell.execute_reply": "2024-07-10T14:41:54.493345Z"
    },
    "papermill": {
     "duration": 1.189095,
     "end_time": "2024-07-10T14:41:54.497090",
     "exception": false,
     "start_time": "2024-07-10T14:41:53.307995",
     "status": "completed"
    },
    "tags": []
   },
   "outputs": [
    {
     "data": {
      "text/html": [
       "<div>\n",
       "<style scoped>\n",
       "    .dataframe tbody tr th:only-of-type {\n",
       "        vertical-align: middle;\n",
       "    }\n",
       "\n",
       "    .dataframe tbody tr th {\n",
       "        vertical-align: top;\n",
       "    }\n",
       "\n",
       "    .dataframe thead th {\n",
       "        text-align: right;\n",
       "    }\n",
       "</style>\n",
       "<table border=\"1\" class=\"dataframe\">\n",
       "  <thead>\n",
       "    <tr style=\"text-align: right;\">\n",
       "      <th></th>\n",
       "      <th>Region_Code</th>\n",
       "      <th>Policy_Sales_Channel</th>\n",
       "    </tr>\n",
       "  </thead>\n",
       "  <tbody>\n",
       "    <tr>\n",
       "      <th>count</th>\n",
       "      <td>11504798.0</td>\n",
       "      <td>11504798.0</td>\n",
       "    </tr>\n",
       "    <tr>\n",
       "      <th>mean</th>\n",
       "      <td>26.4</td>\n",
       "      <td>112.4</td>\n",
       "    </tr>\n",
       "    <tr>\n",
       "      <th>std</th>\n",
       "      <td>13.0</td>\n",
       "      <td>54.0</td>\n",
       "    </tr>\n",
       "    <tr>\n",
       "      <th>min</th>\n",
       "      <td>0.0</td>\n",
       "      <td>1.0</td>\n",
       "    </tr>\n",
       "    <tr>\n",
       "      <th>25%</th>\n",
       "      <td>15.0</td>\n",
       "      <td>29.0</td>\n",
       "    </tr>\n",
       "    <tr>\n",
       "      <th>50%</th>\n",
       "      <td>28.0</td>\n",
       "      <td>151.0</td>\n",
       "    </tr>\n",
       "    <tr>\n",
       "      <th>75%</th>\n",
       "      <td>35.0</td>\n",
       "      <td>152.0</td>\n",
       "    </tr>\n",
       "    <tr>\n",
       "      <th>max</th>\n",
       "      <td>52.0</td>\n",
       "      <td>163.0</td>\n",
       "    </tr>\n",
       "  </tbody>\n",
       "</table>\n",
       "</div>"
      ],
      "text/plain": [
       "      Region_Code Policy_Sales_Channel\n",
       "count  11504798.0           11504798.0\n",
       "mean         26.4                112.4\n",
       "std          13.0                 54.0\n",
       "min           0.0                  1.0\n",
       "25%          15.0                 29.0\n",
       "50%          28.0                151.0\n",
       "75%          35.0                152.0\n",
       "max          52.0                163.0"
      ]
     },
     "execution_count": 19,
     "metadata": {},
     "output_type": "execute_result"
    }
   ],
   "source": [
    "train[['Region_Code','Policy_Sales_Channel']].describe().apply(lambda s: s.apply('{0:.1f}'.format))"
   ]
  },
  {
   "cell_type": "code",
   "execution_count": 20,
   "id": "7cf9797a",
   "metadata": {
    "execution": {
     "iopub.execute_input": "2024-07-10T14:41:54.530323Z",
     "iopub.status.busy": "2024-07-10T14:41:54.529932Z",
     "iopub.status.idle": "2024-07-10T14:41:55.304833Z",
     "shell.execute_reply": "2024-07-10T14:41:55.303759Z"
    },
    "papermill": {
     "duration": 0.794288,
     "end_time": "2024-07-10T14:41:55.307337",
     "exception": false,
     "start_time": "2024-07-10T14:41:54.513049",
     "status": "completed"
    },
    "tags": []
   },
   "outputs": [
    {
     "data": {
      "text/html": [
       "<div>\n",
       "<style scoped>\n",
       "    .dataframe tbody tr th:only-of-type {\n",
       "        vertical-align: middle;\n",
       "    }\n",
       "\n",
       "    .dataframe tbody tr th {\n",
       "        vertical-align: top;\n",
       "    }\n",
       "\n",
       "    .dataframe thead th {\n",
       "        text-align: right;\n",
       "    }\n",
       "</style>\n",
       "<table border=\"1\" class=\"dataframe\">\n",
       "  <thead>\n",
       "    <tr style=\"text-align: right;\">\n",
       "      <th></th>\n",
       "      <th>Region_Code</th>\n",
       "      <th>Policy_Sales_Channel</th>\n",
       "    </tr>\n",
       "  </thead>\n",
       "  <tbody>\n",
       "    <tr>\n",
       "      <th>count</th>\n",
       "      <td>7669866.0</td>\n",
       "      <td>7669866.0</td>\n",
       "    </tr>\n",
       "    <tr>\n",
       "      <th>mean</th>\n",
       "      <td>26.4</td>\n",
       "      <td>112.4</td>\n",
       "    </tr>\n",
       "    <tr>\n",
       "      <th>std</th>\n",
       "      <td>13.0</td>\n",
       "      <td>54.1</td>\n",
       "    </tr>\n",
       "    <tr>\n",
       "      <th>min</th>\n",
       "      <td>0.0</td>\n",
       "      <td>1.0</td>\n",
       "    </tr>\n",
       "    <tr>\n",
       "      <th>25%</th>\n",
       "      <td>15.0</td>\n",
       "      <td>29.0</td>\n",
       "    </tr>\n",
       "    <tr>\n",
       "      <th>50%</th>\n",
       "      <td>28.0</td>\n",
       "      <td>151.0</td>\n",
       "    </tr>\n",
       "    <tr>\n",
       "      <th>75%</th>\n",
       "      <td>35.0</td>\n",
       "      <td>152.0</td>\n",
       "    </tr>\n",
       "    <tr>\n",
       "      <th>max</th>\n",
       "      <td>52.0</td>\n",
       "      <td>163.0</td>\n",
       "    </tr>\n",
       "  </tbody>\n",
       "</table>\n",
       "</div>"
      ],
      "text/plain": [
       "      Region_Code Policy_Sales_Channel\n",
       "count   7669866.0            7669866.0\n",
       "mean         26.4                112.4\n",
       "std          13.0                 54.1\n",
       "min           0.0                  1.0\n",
       "25%          15.0                 29.0\n",
       "50%          28.0                151.0\n",
       "75%          35.0                152.0\n",
       "max          52.0                163.0"
      ]
     },
     "execution_count": 20,
     "metadata": {},
     "output_type": "execute_result"
    }
   ],
   "source": [
    "test[['Region_Code','Policy_Sales_Channel']].describe().apply(lambda s: s.apply('{0:.1f}'.format))"
   ]
  },
  {
   "cell_type": "code",
   "execution_count": 21,
   "id": "ebd11deb",
   "metadata": {
    "execution": {
     "iopub.execute_input": "2024-07-10T14:41:55.340696Z",
     "iopub.status.busy": "2024-07-10T14:41:55.340293Z",
     "iopub.status.idle": "2024-07-10T14:41:55.576636Z",
     "shell.execute_reply": "2024-07-10T14:41:55.575576Z"
    },
    "papermill": {
     "duration": 0.255761,
     "end_time": "2024-07-10T14:41:55.579061",
     "exception": false,
     "start_time": "2024-07-10T14:41:55.323300",
     "status": "completed"
    },
    "tags": []
   },
   "outputs": [
    {
     "data": {
      "text/plain": [
       "[39.2]"
      ]
     },
     "execution_count": 21,
     "metadata": {},
     "output_type": "execute_result"
    }
   ],
   "source": [
    "list(set(train[\"Region_Code\"].unique().tolist())^set(test[\"Region_Code\"].unique().tolist()))"
   ]
  },
  {
   "cell_type": "code",
   "execution_count": 22,
   "id": "0992f72e",
   "metadata": {
    "execution": {
     "iopub.execute_input": "2024-07-10T14:41:55.612417Z",
     "iopub.status.busy": "2024-07-10T14:41:55.611998Z",
     "iopub.status.idle": "2024-07-10T14:41:55.848558Z",
     "shell.execute_reply": "2024-07-10T14:41:55.847224Z"
    },
    "papermill": {
     "duration": 0.256541,
     "end_time": "2024-07-10T14:41:55.851100",
     "exception": false,
     "start_time": "2024-07-10T14:41:55.594559",
     "status": "completed"
    },
    "tags": []
   },
   "outputs": [
    {
     "data": {
      "text/plain": [
       "(54, 53)"
      ]
     },
     "execution_count": 22,
     "metadata": {},
     "output_type": "execute_result"
    }
   ],
   "source": [
    "len(sorted(train['Region_Code'].unique().tolist())),len(sorted(test['Region_Code'].unique().tolist()))"
   ]
  },
  {
   "cell_type": "code",
   "execution_count": 23,
   "id": "0db78191",
   "metadata": {
    "execution": {
     "iopub.execute_input": "2024-07-10T14:41:55.948305Z",
     "iopub.status.busy": "2024-07-10T14:41:55.947871Z",
     "iopub.status.idle": "2024-07-10T14:41:56.320201Z",
     "shell.execute_reply": "2024-07-10T14:41:56.319094Z"
    },
    "papermill": {
     "duration": 0.392436,
     "end_time": "2024-07-10T14:41:56.322816",
     "exception": false,
     "start_time": "2024-07-10T14:41:55.930380",
     "status": "completed"
    },
    "tags": []
   },
   "outputs": [
    {
     "name": "stdout",
     "output_type": "stream",
     "text": [
      "39.2  exist in train data\n"
     ]
    }
   ],
   "source": [
    "i=list(set(train[\"Region_Code\"].unique().tolist())^set(test[\"Region_Code\"].unique().tolist()))\n",
    "for j in i:\n",
    "    if j in train[\"Region_Code\"].unique().tolist(): \n",
    "        print(j,\" exist in train data\") \n",
    "    else: \n",
    "        print(j,\" not exist in train data\")"
   ]
  },
  {
   "cell_type": "code",
   "execution_count": 24,
   "id": "7f6e1e70",
   "metadata": {
    "execution": {
     "iopub.execute_input": "2024-07-10T14:41:56.358352Z",
     "iopub.status.busy": "2024-07-10T14:41:56.357931Z",
     "iopub.status.idle": "2024-07-10T14:41:56.502749Z",
     "shell.execute_reply": "2024-07-10T14:41:56.501578Z"
    },
    "papermill": {
     "duration": 0.166555,
     "end_time": "2024-07-10T14:41:56.505521",
     "exception": false,
     "start_time": "2024-07-10T14:41:56.338966",
     "status": "completed"
    },
    "tags": []
   },
   "outputs": [
    {
     "data": {
      "text/plain": [
       "array([ 0. ,  1. ,  2. ,  3. ,  4. ,  5. ,  6. ,  7. ,  8. ,  9. , 10. ,\n",
       "       11. , 12. , 13. , 14. , 15. , 16. , 17. , 18. , 19. , 20. , 21. ,\n",
       "       22. , 23. , 24. , 25. , 26. , 27. , 28. , 29. , 30. , 31. , 32. ,\n",
       "       33. , 34. , 35. , 36. , 37. , 38. , 39. , 39.2, 40. , 41. , 42. ,\n",
       "       43. , 44. , 45. , 46. , 47. , 48. , 49. , 50. , 51. , 52. ])"
      ]
     },
     "execution_count": 24,
     "metadata": {},
     "output_type": "execute_result"
    }
   ],
   "source": [
    "import numpy as np\n",
    "np.sort(train['Region_Code'].unique())"
   ]
  },
  {
   "cell_type": "code",
   "execution_count": 25,
   "id": "03b16ab6",
   "metadata": {
    "execution": {
     "iopub.execute_input": "2024-07-10T14:41:56.539971Z",
     "iopub.status.busy": "2024-07-10T14:41:56.539319Z",
     "iopub.status.idle": "2024-07-10T14:41:56.638031Z",
     "shell.execute_reply": "2024-07-10T14:41:56.637063Z"
    },
    "papermill": {
     "duration": 0.118615,
     "end_time": "2024-07-10T14:41:56.640411",
     "exception": false,
     "start_time": "2024-07-10T14:41:56.521796",
     "status": "completed"
    },
    "tags": []
   },
   "outputs": [
    {
     "data": {
      "text/plain": [
       "array([ 0.,  1.,  2.,  3.,  4.,  5.,  6.,  7.,  8.,  9., 10., 11., 12.,\n",
       "       13., 14., 15., 16., 17., 18., 19., 20., 21., 22., 23., 24., 25.,\n",
       "       26., 27., 28., 29., 30., 31., 32., 33., 34., 35., 36., 37., 38.,\n",
       "       39., 40., 41., 42., 43., 44., 45., 46., 47., 48., 49., 50., 51.,\n",
       "       52.])"
      ]
     },
     "execution_count": 25,
     "metadata": {},
     "output_type": "execute_result"
    }
   ],
   "source": [
    "np.sort(test['Region_Code'].unique())"
   ]
  },
  {
   "cell_type": "code",
   "execution_count": 26,
   "id": "09b56246",
   "metadata": {
    "execution": {
     "iopub.execute_input": "2024-07-10T14:41:56.674516Z",
     "iopub.status.busy": "2024-07-10T14:41:56.674107Z",
     "iopub.status.idle": "2024-07-10T14:41:56.966670Z",
     "shell.execute_reply": "2024-07-10T14:41:56.965493Z"
    },
    "papermill": {
     "duration": 0.312395,
     "end_time": "2024-07-10T14:41:56.968988",
     "exception": false,
     "start_time": "2024-07-10T14:41:56.656593",
     "status": "completed"
    },
    "tags": []
   },
   "outputs": [
    {
     "data": {
      "text/plain": [
       "array([ 0.,  1.,  2.,  3.,  4.,  5.,  6.,  7.,  8.,  9., 10., 11., 12.,\n",
       "       13., 14., 15., 16., 17., 18., 19., 20., 21., 22., 23., 24., 25.,\n",
       "       26., 27., 28., 29., 30., 31., 32., 33., 34., 35., 36., 37., 38.,\n",
       "       39., 40., 41., 42., 43., 44., 45., 46., 47., 48., 49., 50., 51.,\n",
       "       52.])"
      ]
     },
     "execution_count": 26,
     "metadata": {},
     "output_type": "execute_result"
    }
   ],
   "source": [
    "train['Region_Code']=train['Region_Code'].replace({39.2:39})\n",
    "np.sort(train['Region_Code'].unique())"
   ]
  },
  {
   "cell_type": "code",
   "execution_count": 27,
   "id": "ddba5aac",
   "metadata": {
    "execution": {
     "iopub.execute_input": "2024-07-10T14:41:57.004049Z",
     "iopub.status.busy": "2024-07-10T14:41:57.003649Z",
     "iopub.status.idle": "2024-07-10T14:41:57.102820Z",
     "shell.execute_reply": "2024-07-10T14:41:57.101539Z"
    },
    "papermill": {
     "duration": 0.119469,
     "end_time": "2024-07-10T14:41:57.105394",
     "exception": false,
     "start_time": "2024-07-10T14:41:56.985925",
     "status": "completed"
    },
    "tags": []
   },
   "outputs": [
    {
     "data": {
      "text/plain": [
       "array([ 0.,  1.,  2.,  3.,  4.,  5.,  6.,  7.,  8.,  9., 10., 11., 12.,\n",
       "       13., 14., 15., 16., 17., 18., 19., 20., 21., 22., 23., 24., 25.,\n",
       "       26., 27., 28., 29., 30., 31., 32., 33., 34., 35., 36., 37., 38.,\n",
       "       39., 40., 41., 42., 43., 44., 45., 46., 47., 48., 49., 50., 51.,\n",
       "       52.])"
      ]
     },
     "execution_count": 27,
     "metadata": {},
     "output_type": "execute_result"
    }
   ],
   "source": [
    "np.sort(test['Region_Code'].unique())"
   ]
  },
  {
   "cell_type": "code",
   "execution_count": 28,
   "id": "bb4096ba",
   "metadata": {
    "execution": {
     "iopub.execute_input": "2024-07-10T14:41:57.141484Z",
     "iopub.status.busy": "2024-07-10T14:41:57.141077Z",
     "iopub.status.idle": "2024-07-10T14:41:57.379623Z",
     "shell.execute_reply": "2024-07-10T14:41:57.378299Z"
    },
    "papermill": {
     "duration": 0.260328,
     "end_time": "2024-07-10T14:41:57.382411",
     "exception": false,
     "start_time": "2024-07-10T14:41:57.122083",
     "status": "completed"
    },
    "tags": []
   },
   "outputs": [
    {
     "data": {
      "text/plain": [
       "(152, 151)"
      ]
     },
     "execution_count": 28,
     "metadata": {},
     "output_type": "execute_result"
    }
   ],
   "source": [
    "len(sorted(train['Policy_Sales_Channel'].unique().tolist())),len(sorted(test['Policy_Sales_Channel'].unique().tolist()))"
   ]
  },
  {
   "cell_type": "code",
   "execution_count": 29,
   "id": "e98fc691",
   "metadata": {
    "execution": {
     "iopub.execute_input": "2024-07-10T14:41:57.417349Z",
     "iopub.status.busy": "2024-07-10T14:41:57.416904Z",
     "iopub.status.idle": "2024-07-10T14:41:57.652701Z",
     "shell.execute_reply": "2024-07-10T14:41:57.651327Z"
    },
    "papermill": {
     "duration": 0.25691,
     "end_time": "2024-07-10T14:41:57.655828",
     "exception": false,
     "start_time": "2024-07-10T14:41:57.398918",
     "status": "completed"
    },
    "tags": []
   },
   "outputs": [
    {
     "data": {
      "text/plain": [
       "[5.0, 6.0, 33.0, 144.0, 149.0]"
      ]
     },
     "execution_count": 29,
     "metadata": {},
     "output_type": "execute_result"
    }
   ],
   "source": [
    "list(set(train[\"Policy_Sales_Channel\"].unique().tolist())^set(test[\"Policy_Sales_Channel\"].unique().tolist()))"
   ]
  },
  {
   "cell_type": "code",
   "execution_count": 30,
   "id": "a1d71bce",
   "metadata": {
    "execution": {
     "iopub.execute_input": "2024-07-10T14:41:57.691476Z",
     "iopub.status.busy": "2024-07-10T14:41:57.691048Z",
     "iopub.status.idle": "2024-07-10T14:41:58.642481Z",
     "shell.execute_reply": "2024-07-10T14:41:58.641350Z"
    },
    "papermill": {
     "duration": 0.972959,
     "end_time": "2024-07-10T14:41:58.645454",
     "exception": false,
     "start_time": "2024-07-10T14:41:57.672495",
     "status": "completed"
    },
    "tags": []
   },
   "outputs": [
    {
     "name": "stdout",
     "output_type": "stream",
     "text": [
      "5.0  exist in train data\n",
      "6.0  exist in train data\n",
      "33.0  exist in train data\n",
      "144.0  not exist in train data\n",
      "149.0  not exist in train data\n"
     ]
    }
   ],
   "source": [
    "i=list(set(train[\"Policy_Sales_Channel\"].unique().tolist())^set(test[\"Policy_Sales_Channel\"].unique().tolist()))\n",
    "for j in i:\n",
    "    if j in train[\"Policy_Sales_Channel\"].unique().tolist(): \n",
    "        print(j,\" exist in train data\") \n",
    "    else: \n",
    "        print(j,\" not exist in train data\")"
   ]
  },
  {
   "cell_type": "code",
   "execution_count": 31,
   "id": "a15a41b4",
   "metadata": {
    "execution": {
     "iopub.execute_input": "2024-07-10T14:41:58.702639Z",
     "iopub.status.busy": "2024-07-10T14:41:58.695813Z",
     "iopub.status.idle": "2024-07-10T14:41:58.866338Z",
     "shell.execute_reply": "2024-07-10T14:41:58.865002Z"
    },
    "papermill": {
     "duration": 0.195706,
     "end_time": "2024-07-10T14:41:58.868663",
     "exception": false,
     "start_time": "2024-07-10T14:41:58.672957",
     "status": "completed"
    },
    "tags": []
   },
   "outputs": [
    {
     "data": {
      "text/plain": [
       "array([  1.,   2.,   3.,   4.,   5.,   6.,   7.,   8.,   9.,  10.,  11.,\n",
       "        12.,  13.,  14.,  15.,  16.,  17.,  18.,  19.,  20.,  21.,  22.,\n",
       "        23.,  24.,  25.,  26.,  27.,  28.,  29.,  30.,  31.,  32.,  33.,\n",
       "        34.,  35.,  36.,  37.,  38.,  39.,  40.,  41.,  42.,  43.,  44.,\n",
       "        45.,  46.,  47.,  48.,  49.,  50.,  51.,  52.,  53.,  54.,  55.,\n",
       "        56.,  57.,  58.,  59.,  60.,  61.,  62.,  63.,  64.,  65.,  66.,\n",
       "        67.,  68.,  69.,  70.,  71.,  73.,  74.,  75.,  76.,  78.,  79.,\n",
       "        80.,  81.,  82.,  83.,  86.,  87.,  88.,  89.,  90.,  91.,  92.,\n",
       "        93.,  94.,  95.,  96.,  97.,  98.,  99., 100., 101., 102., 103.,\n",
       "       104., 105., 106., 107., 108., 109., 110., 111., 112., 113., 114.,\n",
       "       115., 116., 117., 118., 119., 120., 121., 122., 123., 124., 125.,\n",
       "       126., 127., 128., 129., 130., 131., 132., 133., 134., 135., 136.,\n",
       "       137., 138., 139., 140., 145., 146., 147., 148., 150., 151., 152.,\n",
       "       153., 154., 155., 156., 157., 158., 159., 160., 163.])"
      ]
     },
     "execution_count": 31,
     "metadata": {},
     "output_type": "execute_result"
    }
   ],
   "source": [
    "np.sort(train['Policy_Sales_Channel'].unique())"
   ]
  },
  {
   "cell_type": "code",
   "execution_count": 32,
   "id": "c85491c6",
   "metadata": {
    "execution": {
     "iopub.execute_input": "2024-07-10T14:41:58.914691Z",
     "iopub.status.busy": "2024-07-10T14:41:58.913728Z",
     "iopub.status.idle": "2024-07-10T14:41:59.021869Z",
     "shell.execute_reply": "2024-07-10T14:41:59.020475Z"
    },
    "papermill": {
     "duration": 0.133313,
     "end_time": "2024-07-10T14:41:59.025208",
     "exception": false,
     "start_time": "2024-07-10T14:41:58.891895",
     "status": "completed"
    },
    "tags": []
   },
   "outputs": [
    {
     "data": {
      "text/plain": [
       "array([  1.,   2.,   3.,   4.,   7.,   8.,   9.,  10.,  11.,  12.,  13.,\n",
       "        14.,  15.,  16.,  17.,  18.,  19.,  20.,  21.,  22.,  23.,  24.,\n",
       "        25.,  26.,  27.,  28.,  29.,  30.,  31.,  32.,  34.,  35.,  36.,\n",
       "        37.,  38.,  39.,  40.,  41.,  42.,  43.,  44.,  45.,  46.,  47.,\n",
       "        48.,  49.,  50.,  51.,  52.,  53.,  54.,  55.,  56.,  57.,  58.,\n",
       "        59.,  60.,  61.,  62.,  63.,  64.,  65.,  66.,  67.,  68.,  69.,\n",
       "        70.,  71.,  73.,  74.,  75.,  76.,  78.,  79.,  80.,  81.,  82.,\n",
       "        83.,  86.,  87.,  88.,  89.,  90.,  91.,  92.,  93.,  94.,  95.,\n",
       "        96.,  97.,  98.,  99., 100., 101., 102., 103., 104., 105., 106.,\n",
       "       107., 108., 109., 110., 111., 112., 113., 114., 115., 116., 117.,\n",
       "       118., 119., 120., 121., 122., 123., 124., 125., 126., 127., 128.,\n",
       "       129., 130., 131., 132., 133., 134., 135., 136., 137., 138., 139.,\n",
       "       140., 144., 145., 146., 147., 148., 149., 150., 151., 152., 153.,\n",
       "       154., 155., 156., 157., 158., 159., 160., 163.])"
      ]
     },
     "execution_count": 32,
     "metadata": {},
     "output_type": "execute_result"
    }
   ],
   "source": [
    "np.sort(test['Policy_Sales_Channel'].unique())"
   ]
  },
  {
   "cell_type": "code",
   "execution_count": 33,
   "id": "90e1689c",
   "metadata": {
    "execution": {
     "iopub.execute_input": "2024-07-10T14:41:59.066730Z",
     "iopub.status.busy": "2024-07-10T14:41:59.066349Z",
     "iopub.status.idle": "2024-07-10T14:41:59.127290Z",
     "shell.execute_reply": "2024-07-10T14:41:59.126262Z"
    },
    "papermill": {
     "duration": 0.082371,
     "end_time": "2024-07-10T14:41:59.130083",
     "exception": false,
     "start_time": "2024-07-10T14:41:59.047712",
     "status": "completed"
    },
    "tags": []
   },
   "outputs": [
    {
     "data": {
      "text/html": [
       "<div>\n",
       "<style scoped>\n",
       "    .dataframe tbody tr th:only-of-type {\n",
       "        vertical-align: middle;\n",
       "    }\n",
       "\n",
       "    .dataframe tbody tr th {\n",
       "        vertical-align: top;\n",
       "    }\n",
       "\n",
       "    .dataframe thead th {\n",
       "        text-align: right;\n",
       "    }\n",
       "</style>\n",
       "<table border=\"1\" class=\"dataframe\">\n",
       "  <thead>\n",
       "    <tr style=\"text-align: right;\">\n",
       "      <th></th>\n",
       "      <th>Gender</th>\n",
       "      <th>Age</th>\n",
       "      <th>Driving_License</th>\n",
       "      <th>Region_Code</th>\n",
       "      <th>Previously_Insured</th>\n",
       "      <th>Vehicle_Age</th>\n",
       "      <th>Vehicle_Damage</th>\n",
       "      <th>Annual_Premium</th>\n",
       "      <th>Policy_Sales_Channel</th>\n",
       "      <th>Vintage</th>\n",
       "    </tr>\n",
       "  </thead>\n",
       "  <tbody>\n",
       "    <tr>\n",
       "      <th>2078459</th>\n",
       "      <td>0</td>\n",
       "      <td>22</td>\n",
       "      <td>1</td>\n",
       "      <td>28.0</td>\n",
       "      <td>0</td>\n",
       "      <td>0</td>\n",
       "      <td>1</td>\n",
       "      <td>42974.0</td>\n",
       "      <td>149.0</td>\n",
       "      <td>225</td>\n",
       "    </tr>\n",
       "    <tr>\n",
       "      <th>5965690</th>\n",
       "      <td>0</td>\n",
       "      <td>67</td>\n",
       "      <td>1</td>\n",
       "      <td>28.0</td>\n",
       "      <td>0</td>\n",
       "      <td>1</td>\n",
       "      <td>1</td>\n",
       "      <td>33236.0</td>\n",
       "      <td>144.0</td>\n",
       "      <td>260</td>\n",
       "    </tr>\n",
       "    <tr>\n",
       "      <th>7109272</th>\n",
       "      <td>0</td>\n",
       "      <td>22</td>\n",
       "      <td>1</td>\n",
       "      <td>8.0</td>\n",
       "      <td>0</td>\n",
       "      <td>0</td>\n",
       "      <td>1</td>\n",
       "      <td>42974.0</td>\n",
       "      <td>149.0</td>\n",
       "      <td>20</td>\n",
       "    </tr>\n",
       "  </tbody>\n",
       "</table>\n",
       "</div>"
      ],
      "text/plain": [
       "         Gender  Age  Driving_License  Region_Code  Previously_Insured  \\\n",
       "2078459       0   22                1         28.0                   0   \n",
       "5965690       0   67                1         28.0                   0   \n",
       "7109272       0   22                1          8.0                   0   \n",
       "\n",
       "         Vehicle_Age  Vehicle_Damage  Annual_Premium  Policy_Sales_Channel  \\\n",
       "2078459            0               1         42974.0                 149.0   \n",
       "5965690            1               1         33236.0                 144.0   \n",
       "7109272            0               1         42974.0                 149.0   \n",
       "\n",
       "         Vintage  \n",
       "2078459      225  \n",
       "5965690      260  \n",
       "7109272       20  "
      ]
     },
     "execution_count": 33,
     "metadata": {},
     "output_type": "execute_result"
    }
   ],
   "source": [
    "test.loc[(test['Policy_Sales_Channel']==144) | \n",
    "         (test['Policy_Sales_Channel']==149)]"
   ]
  },
  {
   "cell_type": "code",
   "execution_count": 34,
   "id": "49fddfbf",
   "metadata": {
    "execution": {
     "iopub.execute_input": "2024-07-10T14:41:59.172204Z",
     "iopub.status.busy": "2024-07-10T14:41:59.171831Z",
     "iopub.status.idle": "2024-07-10T14:41:59.415345Z",
     "shell.execute_reply": "2024-07-10T14:41:59.414169Z"
    },
    "papermill": {
     "duration": 0.264751,
     "end_time": "2024-07-10T14:41:59.417782",
     "exception": false,
     "start_time": "2024-07-10T14:41:59.153031",
     "status": "completed"
    },
    "tags": []
   },
   "outputs": [
    {
     "data": {
      "text/plain": [
       "array([  1.,   2.,   3.,   4.,   7.,   8.,   9.,  10.,  11.,  12.,  13.,\n",
       "        14.,  15.,  16.,  17.,  18.,  19.,  20.,  21.,  22.,  23.,  24.,\n",
       "        25.,  26.,  27.,  28.,  29.,  30.,  31.,  32.,  34.,  35.,  36.,\n",
       "        37.,  38.,  39.,  40.,  41.,  42.,  43.,  44.,  45.,  46.,  47.,\n",
       "        48.,  49.,  50.,  51.,  52.,  53.,  54.,  55.,  56.,  57.,  58.,\n",
       "        59.,  60.,  61.,  62.,  63.,  64.,  65.,  66.,  67.,  68.,  69.,\n",
       "        70.,  71.,  73.,  74.,  75.,  76.,  78.,  79.,  80.,  81.,  82.,\n",
       "        83.,  86.,  87.,  88.,  89.,  90.,  91.,  92.,  93.,  94.,  95.,\n",
       "        96.,  97.,  98.,  99., 100., 101., 102., 103., 104., 105., 106.,\n",
       "       107., 108., 109., 110., 111., 112., 113., 114., 115., 116., 117.,\n",
       "       118., 119., 120., 121., 122., 123., 124., 125., 126., 127., 128.,\n",
       "       129., 130., 131., 132., 133., 134., 135., 136., 137., 138., 139.,\n",
       "       140., 145., 146., 147., 148., 150., 151., 152., 153., 154., 155.,\n",
       "       156., 157., 158., 159., 160., 163.,  nan])"
      ]
     },
     "execution_count": 34,
     "metadata": {},
     "output_type": "execute_result"
    }
   ],
   "source": [
    "import numpy as np\n",
    "test['Policy_Sales_Channel']=test['Policy_Sales_Channel'].replace({144:np.NAN,\n",
    "                                                                   149:np.NAN\n",
    "    \n",
    "})\n",
    "np.sort(test['Policy_Sales_Channel'].unique())"
   ]
  },
  {
   "cell_type": "code",
   "execution_count": 35,
   "id": "42b95a4f",
   "metadata": {
    "execution": {
     "iopub.execute_input": "2024-07-10T14:41:59.455716Z",
     "iopub.status.busy": "2024-07-10T14:41:59.454657Z",
     "iopub.status.idle": "2024-07-10T14:42:01.306033Z",
     "shell.execute_reply": "2024-07-10T14:42:01.304305Z"
    },
    "papermill": {
     "duration": 1.873785,
     "end_time": "2024-07-10T14:42:01.309231",
     "exception": false,
     "start_time": "2024-07-10T14:41:59.435446",
     "status": "completed"
    },
    "tags": []
   },
   "outputs": [
    {
     "data": {
      "text/html": [
       "<div>\n",
       "<style scoped>\n",
       "    .dataframe tbody tr th:only-of-type {\n",
       "        vertical-align: middle;\n",
       "    }\n",
       "\n",
       "    .dataframe tbody tr th {\n",
       "        vertical-align: top;\n",
       "    }\n",
       "\n",
       "    .dataframe thead th {\n",
       "        text-align: right;\n",
       "    }\n",
       "</style>\n",
       "<table border=\"1\" class=\"dataframe\">\n",
       "  <thead>\n",
       "    <tr style=\"text-align: right;\">\n",
       "      <th></th>\n",
       "      <th>Gender</th>\n",
       "      <th>Age</th>\n",
       "      <th>Driving_License</th>\n",
       "      <th>Region_Code</th>\n",
       "      <th>Previously_Insured</th>\n",
       "      <th>Vehicle_Age</th>\n",
       "      <th>Vehicle_Damage</th>\n",
       "      <th>Annual_Premium</th>\n",
       "      <th>Policy_Sales_Channel</th>\n",
       "      <th>Vintage</th>\n",
       "      <th>Response</th>\n",
       "    </tr>\n",
       "  </thead>\n",
       "  <tbody>\n",
       "    <tr>\n",
       "      <th>202578</th>\n",
       "      <td>1</td>\n",
       "      <td>62</td>\n",
       "      <td>1</td>\n",
       "      <td>50.0</td>\n",
       "      <td>1</td>\n",
       "      <td>1</td>\n",
       "      <td>0</td>\n",
       "      <td>36628.0</td>\n",
       "      <td>33.0</td>\n",
       "      <td>97</td>\n",
       "      <td>0</td>\n",
       "    </tr>\n",
       "    <tr>\n",
       "      <th>451535</th>\n",
       "      <td>1</td>\n",
       "      <td>22</td>\n",
       "      <td>1</td>\n",
       "      <td>8.0</td>\n",
       "      <td>0</td>\n",
       "      <td>0</td>\n",
       "      <td>1</td>\n",
       "      <td>39495.0</td>\n",
       "      <td>6.0</td>\n",
       "      <td>189</td>\n",
       "      <td>0</td>\n",
       "    </tr>\n",
       "    <tr>\n",
       "      <th>844680</th>\n",
       "      <td>1</td>\n",
       "      <td>53</td>\n",
       "      <td>1</td>\n",
       "      <td>28.0</td>\n",
       "      <td>0</td>\n",
       "      <td>1</td>\n",
       "      <td>1</td>\n",
       "      <td>44302.0</td>\n",
       "      <td>33.0</td>\n",
       "      <td>76</td>\n",
       "      <td>0</td>\n",
       "    </tr>\n",
       "    <tr>\n",
       "      <th>2674524</th>\n",
       "      <td>1</td>\n",
       "      <td>46</td>\n",
       "      <td>1</td>\n",
       "      <td>28.0</td>\n",
       "      <td>0</td>\n",
       "      <td>2</td>\n",
       "      <td>1</td>\n",
       "      <td>44302.0</td>\n",
       "      <td>33.0</td>\n",
       "      <td>56</td>\n",
       "      <td>0</td>\n",
       "    </tr>\n",
       "    <tr>\n",
       "      <th>3613846</th>\n",
       "      <td>0</td>\n",
       "      <td>46</td>\n",
       "      <td>1</td>\n",
       "      <td>28.0</td>\n",
       "      <td>0</td>\n",
       "      <td>1</td>\n",
       "      <td>1</td>\n",
       "      <td>44302.0</td>\n",
       "      <td>33.0</td>\n",
       "      <td>76</td>\n",
       "      <td>1</td>\n",
       "    </tr>\n",
       "    <tr>\n",
       "      <th>9854728</th>\n",
       "      <td>0</td>\n",
       "      <td>36</td>\n",
       "      <td>1</td>\n",
       "      <td>28.0</td>\n",
       "      <td>0</td>\n",
       "      <td>2</td>\n",
       "      <td>1</td>\n",
       "      <td>30203.0</td>\n",
       "      <td>5.0</td>\n",
       "      <td>109</td>\n",
       "      <td>0</td>\n",
       "    </tr>\n",
       "    <tr>\n",
       "      <th>10981127</th>\n",
       "      <td>0</td>\n",
       "      <td>38</td>\n",
       "      <td>1</td>\n",
       "      <td>14.0</td>\n",
       "      <td>1</td>\n",
       "      <td>1</td>\n",
       "      <td>0</td>\n",
       "      <td>31458.0</td>\n",
       "      <td>33.0</td>\n",
       "      <td>33</td>\n",
       "      <td>0</td>\n",
       "    </tr>\n",
       "  </tbody>\n",
       "</table>\n",
       "</div>"
      ],
      "text/plain": [
       "          Gender  Age  Driving_License  Region_Code  Previously_Insured  \\\n",
       "202578         1   62                1         50.0                   1   \n",
       "451535         1   22                1          8.0                   0   \n",
       "844680         1   53                1         28.0                   0   \n",
       "2674524        1   46                1         28.0                   0   \n",
       "3613846        0   46                1         28.0                   0   \n",
       "9854728        0   36                1         28.0                   0   \n",
       "10981127       0   38                1         14.0                   1   \n",
       "\n",
       "          Vehicle_Age  Vehicle_Damage  Annual_Premium  Policy_Sales_Channel  \\\n",
       "202578              1               0         36628.0                  33.0   \n",
       "451535              0               1         39495.0                   6.0   \n",
       "844680              1               1         44302.0                  33.0   \n",
       "2674524             2               1         44302.0                  33.0   \n",
       "3613846             1               1         44302.0                  33.0   \n",
       "9854728             2               1         30203.0                   5.0   \n",
       "10981127            1               0         31458.0                  33.0   \n",
       "\n",
       "          Vintage  Response  \n",
       "202578         97         0  \n",
       "451535        189         0  \n",
       "844680         76         0  \n",
       "2674524        56         0  \n",
       "3613846        76         1  \n",
       "9854728       109         0  \n",
       "10981127       33         0  "
      ]
     },
     "execution_count": 35,
     "metadata": {},
     "output_type": "execute_result"
    }
   ],
   "source": [
    "train[train[\"Policy_Sales_Channel\"].isin([5,6,33])]"
   ]
  },
  {
   "cell_type": "code",
   "execution_count": 36,
   "id": "e08217e5",
   "metadata": {
    "execution": {
     "iopub.execute_input": "2024-07-10T14:42:01.348805Z",
     "iopub.status.busy": "2024-07-10T14:42:01.347194Z",
     "iopub.status.idle": "2024-07-10T14:42:01.761840Z",
     "shell.execute_reply": "2024-07-10T14:42:01.760537Z"
    },
    "papermill": {
     "duration": 0.436431,
     "end_time": "2024-07-10T14:42:01.764442",
     "exception": false,
     "start_time": "2024-07-10T14:42:01.328011",
     "status": "completed"
    },
    "tags": []
   },
   "outputs": [
    {
     "data": {
      "text/plain": [
       "array([  1.,   2.,   3.,   4.,   7.,   8.,   9.,  10.,  11.,  12.,  13.,\n",
       "        14.,  15.,  16.,  17.,  18.,  19.,  20.,  21.,  22.,  23.,  24.,\n",
       "        25.,  26.,  27.,  28.,  29.,  30.,  31.,  32.,  34.,  35.,  36.,\n",
       "        37.,  38.,  39.,  40.,  41.,  42.,  43.,  44.,  45.,  46.,  47.,\n",
       "        48.,  49.,  50.,  51.,  52.,  53.,  54.,  55.,  56.,  57.,  58.,\n",
       "        59.,  60.,  61.,  62.,  63.,  64.,  65.,  66.,  67.,  68.,  69.,\n",
       "        70.,  71.,  73.,  74.,  75.,  76.,  78.,  79.,  80.,  81.,  82.,\n",
       "        83.,  86.,  87.,  88.,  89.,  90.,  91.,  92.,  93.,  94.,  95.,\n",
       "        96.,  97.,  98.,  99., 100., 101., 102., 103., 104., 105., 106.,\n",
       "       107., 108., 109., 110., 111., 112., 113., 114., 115., 116., 117.,\n",
       "       118., 119., 120., 121., 122., 123., 124., 125., 126., 127., 128.,\n",
       "       129., 130., 131., 132., 133., 134., 135., 136., 137., 138., 139.,\n",
       "       140., 145., 146., 147., 148., 150., 151., 152., 153., 154., 155.,\n",
       "       156., 157., 158., 159., 160., 163.,  nan])"
      ]
     },
     "execution_count": 36,
     "metadata": {},
     "output_type": "execute_result"
    }
   ],
   "source": [
    "train['Policy_Sales_Channel']=train['Policy_Sales_Channel'].replace({5:np.NAN,\n",
    "                                                                6:np.NAN,\n",
    "                                                                     33:np.NAN   \n",
    "})\n",
    "np.sort(train['Policy_Sales_Channel'].unique())"
   ]
  },
  {
   "cell_type": "code",
   "execution_count": 37,
   "id": "a5f7925b",
   "metadata": {
    "execution": {
     "iopub.execute_input": "2024-07-10T14:42:01.804156Z",
     "iopub.status.busy": "2024-07-10T14:42:01.803795Z",
     "iopub.status.idle": "2024-07-10T14:42:01.904562Z",
     "shell.execute_reply": "2024-07-10T14:42:01.903308Z"
    },
    "papermill": {
     "duration": 0.123559,
     "end_time": "2024-07-10T14:42:01.907006",
     "exception": false,
     "start_time": "2024-07-10T14:42:01.783447",
     "status": "completed"
    },
    "tags": []
   },
   "outputs": [
    {
     "data": {
      "text/plain": [
       "array([  1.,   2.,   3.,   4.,   7.,   8.,   9.,  10.,  11.,  12.,  13.,\n",
       "        14.,  15.,  16.,  17.,  18.,  19.,  20.,  21.,  22.,  23.,  24.,\n",
       "        25.,  26.,  27.,  28.,  29.,  30.,  31.,  32.,  34.,  35.,  36.,\n",
       "        37.,  38.,  39.,  40.,  41.,  42.,  43.,  44.,  45.,  46.,  47.,\n",
       "        48.,  49.,  50.,  51.,  52.,  53.,  54.,  55.,  56.,  57.,  58.,\n",
       "        59.,  60.,  61.,  62.,  63.,  64.,  65.,  66.,  67.,  68.,  69.,\n",
       "        70.,  71.,  73.,  74.,  75.,  76.,  78.,  79.,  80.,  81.,  82.,\n",
       "        83.,  86.,  87.,  88.,  89.,  90.,  91.,  92.,  93.,  94.,  95.,\n",
       "        96.,  97.,  98.,  99., 100., 101., 102., 103., 104., 105., 106.,\n",
       "       107., 108., 109., 110., 111., 112., 113., 114., 115., 116., 117.,\n",
       "       118., 119., 120., 121., 122., 123., 124., 125., 126., 127., 128.,\n",
       "       129., 130., 131., 132., 133., 134., 135., 136., 137., 138., 139.,\n",
       "       140., 145., 146., 147., 148., 150., 151., 152., 153., 154., 155.,\n",
       "       156., 157., 158., 159., 160., 163.,  nan])"
      ]
     },
     "execution_count": 37,
     "metadata": {},
     "output_type": "execute_result"
    }
   ],
   "source": [
    "np.sort(test['Policy_Sales_Channel'].unique())"
   ]
  },
  {
   "cell_type": "code",
   "execution_count": 38,
   "id": "c24d5293",
   "metadata": {
    "execution": {
     "iopub.execute_input": "2024-07-10T14:42:01.943970Z",
     "iopub.status.busy": "2024-07-10T14:42:01.943575Z",
     "iopub.status.idle": "2024-07-10T14:42:02.141268Z",
     "shell.execute_reply": "2024-07-10T14:42:02.139943Z"
    },
    "papermill": {
     "duration": 0.219722,
     "end_time": "2024-07-10T14:42:02.144398",
     "exception": false,
     "start_time": "2024-07-10T14:42:01.924676",
     "status": "completed"
    },
    "tags": []
   },
   "outputs": [
    {
     "data": {
      "text/plain": [
       "Region_Code\n",
       "28    3451062\n",
       "8     1021036\n",
       "46     578208\n",
       "41     557581\n",
       "15     403977\n",
       "30     367307\n",
       "29     338146\n",
       "50     302334\n",
       "11     278261\n",
       "36     261946\n",
       "3      246303\n",
       "33     232387\n",
       "47     229190\n",
       "35     200035\n",
       "6      181122\n",
       "45     159292\n",
       "37     158976\n",
       "18     148548\n",
       "39     138069\n",
       "14     134585\n",
       "21     126793\n",
       "10     126081\n",
       "2      118097\n",
       "48     114230\n",
       "13     108838\n",
       "9       93371\n",
       "7       92240\n",
       "12      92142\n",
       "27      78878\n",
       "32      78797\n",
       "43      75868\n",
       "17      74533\n",
       "26      71228\n",
       "25      70556\n",
       "24      69136\n",
       "38      60587\n",
       "0       59274\n",
       "20      58765\n",
       "31      58442\n",
       "16      54905\n",
       "23      54518\n",
       "4       52504\n",
       "49      50822\n",
       "34      48685\n",
       "19      44197\n",
       "22      36932\n",
       "5       36832\n",
       "40      35888\n",
       "1       33966\n",
       "44      20305\n",
       "42      13693\n",
       "52       3450\n",
       "51       1880\n",
       "Name: count, dtype: int64"
      ]
     },
     "execution_count": 38,
     "metadata": {},
     "output_type": "execute_result"
    }
   ],
   "source": [
    "train['Region_Code']=train['Region_Code'].astype('int')\n",
    "train['Region_Code'].value_counts()"
   ]
  },
  {
   "cell_type": "code",
   "execution_count": 39,
   "id": "238abf8d",
   "metadata": {
    "execution": {
     "iopub.execute_input": "2024-07-10T14:42:02.184426Z",
     "iopub.status.busy": "2024-07-10T14:42:02.184034Z",
     "iopub.status.idle": "2024-07-10T14:42:02.317032Z",
     "shell.execute_reply": "2024-07-10T14:42:02.315807Z"
    },
    "papermill": {
     "duration": 0.155031,
     "end_time": "2024-07-10T14:42:02.319645",
     "exception": false,
     "start_time": "2024-07-10T14:42:02.164614",
     "status": "completed"
    },
    "tags": []
   },
   "outputs": [
    {
     "data": {
      "text/plain": [
       "Region_Code\n",
       "28    2299652\n",
       "8      681778\n",
       "46     386147\n",
       "41     372203\n",
       "15     268477\n",
       "30     244864\n",
       "29     224596\n",
       "50     201968\n",
       "11     184821\n",
       "36     174967\n",
       "3      164427\n",
       "33     155735\n",
       "47     152803\n",
       "35     133825\n",
       "6      120975\n",
       "45     105868\n",
       "37     105620\n",
       "18      99023\n",
       "39      91993\n",
       "14      90023\n",
       "21      84503\n",
       "10      83607\n",
       "2       78461\n",
       "48      76381\n",
       "13      72542\n",
       "9       62304\n",
       "7       61745\n",
       "12      61717\n",
       "32      52787\n",
       "27      52315\n",
       "43      50970\n",
       "17      49492\n",
       "26      47810\n",
       "25      46793\n",
       "24      46316\n",
       "38      40562\n",
       "0       39320\n",
       "31      39143\n",
       "20      38648\n",
       "16      36905\n",
       "23      36176\n",
       "4       34954\n",
       "49      34036\n",
       "34      32328\n",
       "19      29253\n",
       "22      24443\n",
       "5       24220\n",
       "40      23831\n",
       "1       22359\n",
       "44      13583\n",
       "42       9042\n",
       "52       2295\n",
       "51       1260\n",
       "Name: count, dtype: int64"
      ]
     },
     "execution_count": 39,
     "metadata": {},
     "output_type": "execute_result"
    }
   ],
   "source": [
    "test['Region_Code']=test['Region_Code'].astype('int')\n",
    "test['Region_Code'].value_counts()"
   ]
  },
  {
   "cell_type": "code",
   "execution_count": 40,
   "id": "f72d67fb",
   "metadata": {
    "execution": {
     "iopub.execute_input": "2024-07-10T14:42:02.358348Z",
     "iopub.status.busy": "2024-07-10T14:42:02.357965Z",
     "iopub.status.idle": "2024-07-10T14:42:02.970807Z",
     "shell.execute_reply": "2024-07-10T14:42:02.969603Z"
    },
    "papermill": {
     "duration": 0.635321,
     "end_time": "2024-07-10T14:42:02.973568",
     "exception": false,
     "start_time": "2024-07-10T14:42:02.338247",
     "status": "completed"
    },
    "tags": []
   },
   "outputs": [
    {
     "name": "stdout",
     "output_type": "stream",
     "text": [
      "Done\n"
     ]
    }
   ],
   "source": [
    "for i in ['Region_Code','Policy_Sales_Channel']:\n",
    "    if (len(list(set(train[i].dropna().unique().tolist())^set(test[i].dropna().unique().tolist())))!=0):\n",
    "        print(i ,'need to be worked on')\n",
    "    else:\n",
    "        continue\n",
    "print('Done')"
   ]
  },
  {
   "cell_type": "code",
   "execution_count": 41,
   "id": "67cce456",
   "metadata": {
    "execution": {
     "iopub.execute_input": "2024-07-10T14:42:03.012967Z",
     "iopub.status.busy": "2024-07-10T14:42:03.012600Z",
     "iopub.status.idle": "2024-07-10T14:42:03.294411Z",
     "shell.execute_reply": "2024-07-10T14:42:03.293272Z"
    },
    "papermill": {
     "duration": 0.30422,
     "end_time": "2024-07-10T14:42:03.297143",
     "exception": false,
     "start_time": "2024-07-10T14:42:02.992923",
     "status": "completed"
    },
    "tags": []
   },
   "outputs": [
    {
     "data": {
      "text/plain": [
       "array([65101., 58911., 38043., ..., 22112., 54335., 64538.])"
      ]
     },
     "execution_count": 41,
     "metadata": {},
     "output_type": "execute_result"
    }
   ],
   "source": [
    "train['Annual_Premium'].unique()"
   ]
  },
  {
   "cell_type": "code",
   "execution_count": 42,
   "id": "e1d02255",
   "metadata": {
    "execution": {
     "iopub.execute_input": "2024-07-10T14:42:03.335474Z",
     "iopub.status.busy": "2024-07-10T14:42:03.335082Z",
     "iopub.status.idle": "2024-07-10T14:42:03.433994Z",
     "shell.execute_reply": "2024-07-10T14:42:03.432816Z"
    },
    "papermill": {
     "duration": 0.121102,
     "end_time": "2024-07-10T14:42:03.436776",
     "exception": false,
     "start_time": "2024-07-10T14:42:03.315674",
     "status": "completed"
    },
    "tags": []
   },
   "outputs": [
    {
     "data": {
      "text/html": [
       "<div>\n",
       "<style scoped>\n",
       "    .dataframe tbody tr th:only-of-type {\n",
       "        vertical-align: middle;\n",
       "    }\n",
       "\n",
       "    .dataframe tbody tr th {\n",
       "        vertical-align: top;\n",
       "    }\n",
       "\n",
       "    .dataframe thead th {\n",
       "        text-align: right;\n",
       "    }\n",
       "</style>\n",
       "<table border=\"1\" class=\"dataframe\">\n",
       "  <thead>\n",
       "    <tr style=\"text-align: right;\">\n",
       "      <th></th>\n",
       "      <th>Gender</th>\n",
       "      <th>Age</th>\n",
       "      <th>Driving_License</th>\n",
       "      <th>Region_Code</th>\n",
       "      <th>Previously_Insured</th>\n",
       "      <th>Vehicle_Age</th>\n",
       "      <th>Vehicle_Damage</th>\n",
       "      <th>Annual_Premium</th>\n",
       "      <th>Policy_Sales_Channel</th>\n",
       "      <th>Vintage</th>\n",
       "      <th>Response</th>\n",
       "    </tr>\n",
       "  </thead>\n",
       "  <tbody>\n",
       "    <tr>\n",
       "      <th>0</th>\n",
       "      <td>0</td>\n",
       "      <td>21</td>\n",
       "      <td>1</td>\n",
       "      <td>35</td>\n",
       "      <td>0</td>\n",
       "      <td>1</td>\n",
       "      <td>1</td>\n",
       "      <td>65101</td>\n",
       "      <td>124.0</td>\n",
       "      <td>187</td>\n",
       "      <td>0</td>\n",
       "    </tr>\n",
       "    <tr>\n",
       "      <th>1</th>\n",
       "      <td>0</td>\n",
       "      <td>43</td>\n",
       "      <td>1</td>\n",
       "      <td>28</td>\n",
       "      <td>0</td>\n",
       "      <td>2</td>\n",
       "      <td>1</td>\n",
       "      <td>58911</td>\n",
       "      <td>26.0</td>\n",
       "      <td>288</td>\n",
       "      <td>1</td>\n",
       "    </tr>\n",
       "    <tr>\n",
       "      <th>2</th>\n",
       "      <td>1</td>\n",
       "      <td>25</td>\n",
       "      <td>1</td>\n",
       "      <td>14</td>\n",
       "      <td>1</td>\n",
       "      <td>0</td>\n",
       "      <td>0</td>\n",
       "      <td>38043</td>\n",
       "      <td>152.0</td>\n",
       "      <td>254</td>\n",
       "      <td>0</td>\n",
       "    </tr>\n",
       "    <tr>\n",
       "      <th>3</th>\n",
       "      <td>1</td>\n",
       "      <td>35</td>\n",
       "      <td>1</td>\n",
       "      <td>1</td>\n",
       "      <td>0</td>\n",
       "      <td>1</td>\n",
       "      <td>1</td>\n",
       "      <td>2630</td>\n",
       "      <td>156.0</td>\n",
       "      <td>76</td>\n",
       "      <td>0</td>\n",
       "    </tr>\n",
       "    <tr>\n",
       "      <th>4</th>\n",
       "      <td>1</td>\n",
       "      <td>36</td>\n",
       "      <td>1</td>\n",
       "      <td>15</td>\n",
       "      <td>1</td>\n",
       "      <td>1</td>\n",
       "      <td>0</td>\n",
       "      <td>31951</td>\n",
       "      <td>152.0</td>\n",
       "      <td>294</td>\n",
       "      <td>0</td>\n",
       "    </tr>\n",
       "  </tbody>\n",
       "</table>\n",
       "</div>"
      ],
      "text/plain": [
       "   Gender  Age  Driving_License  Region_Code  Previously_Insured  Vehicle_Age  \\\n",
       "0       0   21                1           35                   0            1   \n",
       "1       0   43                1           28                   0            2   \n",
       "2       1   25                1           14                   1            0   \n",
       "3       1   35                1            1                   0            1   \n",
       "4       1   36                1           15                   1            1   \n",
       "\n",
       "   Vehicle_Damage  Annual_Premium  Policy_Sales_Channel  Vintage  Response  \n",
       "0               1           65101                 124.0      187         0  \n",
       "1               1           58911                  26.0      288         1  \n",
       "2               0           38043                 152.0      254         0  \n",
       "3               1            2630                 156.0       76         0  \n",
       "4               0           31951                 152.0      294         0  "
      ]
     },
     "execution_count": 42,
     "metadata": {},
     "output_type": "execute_result"
    }
   ],
   "source": [
    "train['Annual_Premium']=train['Annual_Premium'].astype('int')\n",
    "train.head()"
   ]
  },
  {
   "cell_type": "code",
   "execution_count": 43,
   "id": "d5519453",
   "metadata": {
    "execution": {
     "iopub.execute_input": "2024-07-10T14:42:03.476072Z",
     "iopub.status.busy": "2024-07-10T14:42:03.475704Z",
     "iopub.status.idle": "2024-07-10T14:42:03.544651Z",
     "shell.execute_reply": "2024-07-10T14:42:03.543325Z"
    },
    "papermill": {
     "duration": 0.091561,
     "end_time": "2024-07-10T14:42:03.547353",
     "exception": false,
     "start_time": "2024-07-10T14:42:03.455792",
     "status": "completed"
    },
    "tags": []
   },
   "outputs": [
    {
     "data": {
      "text/html": [
       "<div>\n",
       "<style scoped>\n",
       "    .dataframe tbody tr th:only-of-type {\n",
       "        vertical-align: middle;\n",
       "    }\n",
       "\n",
       "    .dataframe tbody tr th {\n",
       "        vertical-align: top;\n",
       "    }\n",
       "\n",
       "    .dataframe thead th {\n",
       "        text-align: right;\n",
       "    }\n",
       "</style>\n",
       "<table border=\"1\" class=\"dataframe\">\n",
       "  <thead>\n",
       "    <tr style=\"text-align: right;\">\n",
       "      <th></th>\n",
       "      <th>Gender</th>\n",
       "      <th>Age</th>\n",
       "      <th>Driving_License</th>\n",
       "      <th>Region_Code</th>\n",
       "      <th>Previously_Insured</th>\n",
       "      <th>Vehicle_Age</th>\n",
       "      <th>Vehicle_Damage</th>\n",
       "      <th>Annual_Premium</th>\n",
       "      <th>Policy_Sales_Channel</th>\n",
       "      <th>Vintage</th>\n",
       "    </tr>\n",
       "  </thead>\n",
       "  <tbody>\n",
       "    <tr>\n",
       "      <th>0</th>\n",
       "      <td>1</td>\n",
       "      <td>20</td>\n",
       "      <td>1</td>\n",
       "      <td>47</td>\n",
       "      <td>0</td>\n",
       "      <td>0</td>\n",
       "      <td>0</td>\n",
       "      <td>2630</td>\n",
       "      <td>160.0</td>\n",
       "      <td>228</td>\n",
       "    </tr>\n",
       "    <tr>\n",
       "      <th>1</th>\n",
       "      <td>0</td>\n",
       "      <td>47</td>\n",
       "      <td>1</td>\n",
       "      <td>28</td>\n",
       "      <td>0</td>\n",
       "      <td>1</td>\n",
       "      <td>1</td>\n",
       "      <td>37483</td>\n",
       "      <td>124.0</td>\n",
       "      <td>123</td>\n",
       "    </tr>\n",
       "    <tr>\n",
       "      <th>2</th>\n",
       "      <td>0</td>\n",
       "      <td>47</td>\n",
       "      <td>1</td>\n",
       "      <td>43</td>\n",
       "      <td>0</td>\n",
       "      <td>1</td>\n",
       "      <td>1</td>\n",
       "      <td>2630</td>\n",
       "      <td>26.0</td>\n",
       "      <td>271</td>\n",
       "    </tr>\n",
       "    <tr>\n",
       "      <th>3</th>\n",
       "      <td>1</td>\n",
       "      <td>22</td>\n",
       "      <td>1</td>\n",
       "      <td>47</td>\n",
       "      <td>1</td>\n",
       "      <td>0</td>\n",
       "      <td>0</td>\n",
       "      <td>24502</td>\n",
       "      <td>152.0</td>\n",
       "      <td>115</td>\n",
       "    </tr>\n",
       "    <tr>\n",
       "      <th>4</th>\n",
       "      <td>0</td>\n",
       "      <td>51</td>\n",
       "      <td>1</td>\n",
       "      <td>19</td>\n",
       "      <td>0</td>\n",
       "      <td>1</td>\n",
       "      <td>0</td>\n",
       "      <td>34115</td>\n",
       "      <td>124.0</td>\n",
       "      <td>148</td>\n",
       "    </tr>\n",
       "  </tbody>\n",
       "</table>\n",
       "</div>"
      ],
      "text/plain": [
       "   Gender  Age  Driving_License  Region_Code  Previously_Insured  Vehicle_Age  \\\n",
       "0       1   20                1           47                   0            0   \n",
       "1       0   47                1           28                   0            1   \n",
       "2       0   47                1           43                   0            1   \n",
       "3       1   22                1           47                   1            0   \n",
       "4       0   51                1           19                   0            1   \n",
       "\n",
       "   Vehicle_Damage  Annual_Premium  Policy_Sales_Channel  Vintage  \n",
       "0               0            2630                 160.0      228  \n",
       "1               1           37483                 124.0      123  \n",
       "2               1            2630                  26.0      271  \n",
       "3               0           24502                 152.0      115  \n",
       "4               0           34115                 124.0      148  "
      ]
     },
     "execution_count": 43,
     "metadata": {},
     "output_type": "execute_result"
    }
   ],
   "source": [
    "test['Annual_Premium']=test['Annual_Premium'].astype('int')\n",
    "test.head()"
   ]
  },
  {
   "cell_type": "code",
   "execution_count": 44,
   "id": "5a802f15",
   "metadata": {
    "execution": {
     "iopub.execute_input": "2024-07-10T14:42:03.586787Z",
     "iopub.status.busy": "2024-07-10T14:42:03.586351Z",
     "iopub.status.idle": "2024-07-10T14:42:03.722747Z",
     "shell.execute_reply": "2024-07-10T14:42:03.721531Z"
    },
    "papermill": {
     "duration": 0.159034,
     "end_time": "2024-07-10T14:42:03.725458",
     "exception": false,
     "start_time": "2024-07-10T14:42:03.566424",
     "status": "completed"
    },
    "tags": []
   },
   "outputs": [
    {
     "data": {
      "text/plain": [
       "Gender                  0\n",
       "Age                     0\n",
       "Driving_License         0\n",
       "Region_Code             0\n",
       "Previously_Insured      0\n",
       "Vehicle_Age             0\n",
       "Vehicle_Damage          0\n",
       "Annual_Premium          0\n",
       "Policy_Sales_Channel    7\n",
       "Vintage                 0\n",
       "Response                0\n",
       "dtype: int64"
      ]
     },
     "execution_count": 44,
     "metadata": {},
     "output_type": "execute_result"
    }
   ],
   "source": [
    "train.isnull().sum()"
   ]
  },
  {
   "cell_type": "code",
   "execution_count": 45,
   "id": "fca02efb",
   "metadata": {
    "execution": {
     "iopub.execute_input": "2024-07-10T14:42:03.766371Z",
     "iopub.status.busy": "2024-07-10T14:42:03.765782Z",
     "iopub.status.idle": "2024-07-10T14:42:03.854160Z",
     "shell.execute_reply": "2024-07-10T14:42:03.853081Z"
    },
    "papermill": {
     "duration": 0.111776,
     "end_time": "2024-07-10T14:42:03.856534",
     "exception": false,
     "start_time": "2024-07-10T14:42:03.744758",
     "status": "completed"
    },
    "tags": []
   },
   "outputs": [
    {
     "data": {
      "text/plain": [
       "Gender                  0\n",
       "Age                     0\n",
       "Driving_License         0\n",
       "Region_Code             0\n",
       "Previously_Insured      0\n",
       "Vehicle_Age             0\n",
       "Vehicle_Damage          0\n",
       "Annual_Premium          0\n",
       "Policy_Sales_Channel    3\n",
       "Vintage                 0\n",
       "dtype: int64"
      ]
     },
     "execution_count": 45,
     "metadata": {},
     "output_type": "execute_result"
    }
   ],
   "source": [
    "test.isnull().sum()"
   ]
  },
  {
   "cell_type": "code",
   "execution_count": 46,
   "id": "8575fba3",
   "metadata": {
    "execution": {
     "iopub.execute_input": "2024-07-10T14:42:03.895790Z",
     "iopub.status.busy": "2024-07-10T14:42:03.895334Z",
     "iopub.status.idle": "2024-07-10T14:42:04.030007Z",
     "shell.execute_reply": "2024-07-10T14:42:04.028861Z"
    },
    "papermill": {
     "duration": 0.157103,
     "end_time": "2024-07-10T14:42:04.032488",
     "exception": false,
     "start_time": "2024-07-10T14:42:03.875385",
     "status": "completed"
    },
    "tags": []
   },
   "outputs": [
    {
     "data": {
      "text/html": [
       "<div>\n",
       "<style scoped>\n",
       "    .dataframe tbody tr th:only-of-type {\n",
       "        vertical-align: middle;\n",
       "    }\n",
       "\n",
       "    .dataframe tbody tr th {\n",
       "        vertical-align: top;\n",
       "    }\n",
       "\n",
       "    .dataframe thead th {\n",
       "        text-align: right;\n",
       "    }\n",
       "</style>\n",
       "<table border=\"1\" class=\"dataframe\">\n",
       "  <thead>\n",
       "    <tr style=\"text-align: right;\">\n",
       "      <th></th>\n",
       "      <th>Gender</th>\n",
       "      <th>Age</th>\n",
       "      <th>Driving_License</th>\n",
       "      <th>Region_Code</th>\n",
       "      <th>Previously_Insured</th>\n",
       "      <th>Vehicle_Age</th>\n",
       "      <th>Vehicle_Damage</th>\n",
       "      <th>Annual_Premium</th>\n",
       "      <th>Policy_Sales_Channel</th>\n",
       "      <th>Vintage</th>\n",
       "      <th>Response</th>\n",
       "    </tr>\n",
       "  </thead>\n",
       "  <tbody>\n",
       "    <tr>\n",
       "      <th>202578</th>\n",
       "      <td>1</td>\n",
       "      <td>62</td>\n",
       "      <td>1</td>\n",
       "      <td>50</td>\n",
       "      <td>1</td>\n",
       "      <td>1</td>\n",
       "      <td>0</td>\n",
       "      <td>36628</td>\n",
       "      <td>NaN</td>\n",
       "      <td>97</td>\n",
       "      <td>0</td>\n",
       "    </tr>\n",
       "    <tr>\n",
       "      <th>451535</th>\n",
       "      <td>1</td>\n",
       "      <td>22</td>\n",
       "      <td>1</td>\n",
       "      <td>8</td>\n",
       "      <td>0</td>\n",
       "      <td>0</td>\n",
       "      <td>1</td>\n",
       "      <td>39495</td>\n",
       "      <td>NaN</td>\n",
       "      <td>189</td>\n",
       "      <td>0</td>\n",
       "    </tr>\n",
       "    <tr>\n",
       "      <th>844680</th>\n",
       "      <td>1</td>\n",
       "      <td>53</td>\n",
       "      <td>1</td>\n",
       "      <td>28</td>\n",
       "      <td>0</td>\n",
       "      <td>1</td>\n",
       "      <td>1</td>\n",
       "      <td>44302</td>\n",
       "      <td>NaN</td>\n",
       "      <td>76</td>\n",
       "      <td>0</td>\n",
       "    </tr>\n",
       "    <tr>\n",
       "      <th>2674524</th>\n",
       "      <td>1</td>\n",
       "      <td>46</td>\n",
       "      <td>1</td>\n",
       "      <td>28</td>\n",
       "      <td>0</td>\n",
       "      <td>2</td>\n",
       "      <td>1</td>\n",
       "      <td>44302</td>\n",
       "      <td>NaN</td>\n",
       "      <td>56</td>\n",
       "      <td>0</td>\n",
       "    </tr>\n",
       "    <tr>\n",
       "      <th>3613846</th>\n",
       "      <td>0</td>\n",
       "      <td>46</td>\n",
       "      <td>1</td>\n",
       "      <td>28</td>\n",
       "      <td>0</td>\n",
       "      <td>1</td>\n",
       "      <td>1</td>\n",
       "      <td>44302</td>\n",
       "      <td>NaN</td>\n",
       "      <td>76</td>\n",
       "      <td>1</td>\n",
       "    </tr>\n",
       "    <tr>\n",
       "      <th>9854728</th>\n",
       "      <td>0</td>\n",
       "      <td>36</td>\n",
       "      <td>1</td>\n",
       "      <td>28</td>\n",
       "      <td>0</td>\n",
       "      <td>2</td>\n",
       "      <td>1</td>\n",
       "      <td>30203</td>\n",
       "      <td>NaN</td>\n",
       "      <td>109</td>\n",
       "      <td>0</td>\n",
       "    </tr>\n",
       "    <tr>\n",
       "      <th>10981127</th>\n",
       "      <td>0</td>\n",
       "      <td>38</td>\n",
       "      <td>1</td>\n",
       "      <td>14</td>\n",
       "      <td>1</td>\n",
       "      <td>1</td>\n",
       "      <td>0</td>\n",
       "      <td>31458</td>\n",
       "      <td>NaN</td>\n",
       "      <td>33</td>\n",
       "      <td>0</td>\n",
       "    </tr>\n",
       "  </tbody>\n",
       "</table>\n",
       "</div>"
      ],
      "text/plain": [
       "          Gender  Age  Driving_License  Region_Code  Previously_Insured  \\\n",
       "202578         1   62                1           50                   1   \n",
       "451535         1   22                1            8                   0   \n",
       "844680         1   53                1           28                   0   \n",
       "2674524        1   46                1           28                   0   \n",
       "3613846        0   46                1           28                   0   \n",
       "9854728        0   36                1           28                   0   \n",
       "10981127       0   38                1           14                   1   \n",
       "\n",
       "          Vehicle_Age  Vehicle_Damage  Annual_Premium  Policy_Sales_Channel  \\\n",
       "202578              1               0           36628                   NaN   \n",
       "451535              0               1           39495                   NaN   \n",
       "844680              1               1           44302                   NaN   \n",
       "2674524             2               1           44302                   NaN   \n",
       "3613846             1               1           44302                   NaN   \n",
       "9854728             2               1           30203                   NaN   \n",
       "10981127            1               0           31458                   NaN   \n",
       "\n",
       "          Vintage  Response  \n",
       "202578         97         0  \n",
       "451535        189         0  \n",
       "844680         76         0  \n",
       "2674524        56         0  \n",
       "3613846        76         1  \n",
       "9854728       109         0  \n",
       "10981127       33         0  "
      ]
     },
     "execution_count": 46,
     "metadata": {},
     "output_type": "execute_result"
    }
   ],
   "source": [
    "train[train.isna().any(axis=1)]"
   ]
  },
  {
   "cell_type": "code",
   "execution_count": 47,
   "id": "4241ecd7",
   "metadata": {
    "execution": {
     "iopub.execute_input": "2024-07-10T14:42:04.073067Z",
     "iopub.status.busy": "2024-07-10T14:42:04.072122Z",
     "iopub.status.idle": "2024-07-10T14:42:04.168283Z",
     "shell.execute_reply": "2024-07-10T14:42:04.167207Z"
    },
    "papermill": {
     "duration": 0.119132,
     "end_time": "2024-07-10T14:42:04.170856",
     "exception": false,
     "start_time": "2024-07-10T14:42:04.051724",
     "status": "completed"
    },
    "tags": []
   },
   "outputs": [
    {
     "data": {
      "text/html": [
       "<div>\n",
       "<style scoped>\n",
       "    .dataframe tbody tr th:only-of-type {\n",
       "        vertical-align: middle;\n",
       "    }\n",
       "\n",
       "    .dataframe tbody tr th {\n",
       "        vertical-align: top;\n",
       "    }\n",
       "\n",
       "    .dataframe thead th {\n",
       "        text-align: right;\n",
       "    }\n",
       "</style>\n",
       "<table border=\"1\" class=\"dataframe\">\n",
       "  <thead>\n",
       "    <tr style=\"text-align: right;\">\n",
       "      <th></th>\n",
       "      <th>Gender</th>\n",
       "      <th>Age</th>\n",
       "      <th>Driving_License</th>\n",
       "      <th>Region_Code</th>\n",
       "      <th>Previously_Insured</th>\n",
       "      <th>Vehicle_Age</th>\n",
       "      <th>Vehicle_Damage</th>\n",
       "      <th>Annual_Premium</th>\n",
       "      <th>Policy_Sales_Channel</th>\n",
       "      <th>Vintage</th>\n",
       "    </tr>\n",
       "  </thead>\n",
       "  <tbody>\n",
       "    <tr>\n",
       "      <th>2078459</th>\n",
       "      <td>0</td>\n",
       "      <td>22</td>\n",
       "      <td>1</td>\n",
       "      <td>28</td>\n",
       "      <td>0</td>\n",
       "      <td>0</td>\n",
       "      <td>1</td>\n",
       "      <td>42974</td>\n",
       "      <td>NaN</td>\n",
       "      <td>225</td>\n",
       "    </tr>\n",
       "    <tr>\n",
       "      <th>5965690</th>\n",
       "      <td>0</td>\n",
       "      <td>67</td>\n",
       "      <td>1</td>\n",
       "      <td>28</td>\n",
       "      <td>0</td>\n",
       "      <td>1</td>\n",
       "      <td>1</td>\n",
       "      <td>33236</td>\n",
       "      <td>NaN</td>\n",
       "      <td>260</td>\n",
       "    </tr>\n",
       "    <tr>\n",
       "      <th>7109272</th>\n",
       "      <td>0</td>\n",
       "      <td>22</td>\n",
       "      <td>1</td>\n",
       "      <td>8</td>\n",
       "      <td>0</td>\n",
       "      <td>0</td>\n",
       "      <td>1</td>\n",
       "      <td>42974</td>\n",
       "      <td>NaN</td>\n",
       "      <td>20</td>\n",
       "    </tr>\n",
       "  </tbody>\n",
       "</table>\n",
       "</div>"
      ],
      "text/plain": [
       "         Gender  Age  Driving_License  Region_Code  Previously_Insured  \\\n",
       "2078459       0   22                1           28                   0   \n",
       "5965690       0   67                1           28                   0   \n",
       "7109272       0   22                1            8                   0   \n",
       "\n",
       "         Vehicle_Age  Vehicle_Damage  Annual_Premium  Policy_Sales_Channel  \\\n",
       "2078459            0               1           42974                   NaN   \n",
       "5965690            1               1           33236                   NaN   \n",
       "7109272            0               1           42974                   NaN   \n",
       "\n",
       "         Vintage  \n",
       "2078459      225  \n",
       "5965690      260  \n",
       "7109272       20  "
      ]
     },
     "execution_count": 47,
     "metadata": {},
     "output_type": "execute_result"
    }
   ],
   "source": [
    "test[test.isna().any(axis=1)]"
   ]
  },
  {
   "cell_type": "code",
   "execution_count": 48,
   "id": "d33e1e67",
   "metadata": {
    "execution": {
     "iopub.execute_input": "2024-07-10T14:42:04.212080Z",
     "iopub.status.busy": "2024-07-10T14:42:04.211393Z",
     "iopub.status.idle": "2024-07-10T14:42:04.626616Z",
     "shell.execute_reply": "2024-07-10T14:42:04.625444Z"
    },
    "papermill": {
     "duration": 0.438619,
     "end_time": "2024-07-10T14:42:04.628895",
     "exception": false,
     "start_time": "2024-07-10T14:42:04.190276",
     "status": "completed"
    },
    "tags": []
   },
   "outputs": [
    {
     "data": {
      "text/plain": [
       "(150, 150)"
      ]
     },
     "execution_count": 48,
     "metadata": {},
     "output_type": "execute_result"
    }
   ],
   "source": [
    "train['Policy_Sales_Channel']=train['Policy_Sales_Channel'].fillna(-1)\n",
    "test['Policy_Sales_Channel']=test['Policy_Sales_Channel'].fillna(-1)\n",
    "train['Policy_Sales_Channel']=train['Policy_Sales_Channel'].astype('int')\n",
    "test['Policy_Sales_Channel']=test['Policy_Sales_Channel'].astype('int')\n",
    "len(sorted(train['Policy_Sales_Channel'].unique().tolist())),len(sorted(test['Policy_Sales_Channel'].unique().tolist()))"
   ]
  },
  {
   "cell_type": "code",
   "execution_count": 49,
   "id": "cb6c8e1b",
   "metadata": {
    "execution": {
     "iopub.execute_input": "2024-07-10T14:42:04.670368Z",
     "iopub.status.busy": "2024-07-10T14:42:04.669985Z",
     "iopub.status.idle": "2024-07-10T14:42:04.683312Z",
     "shell.execute_reply": "2024-07-10T14:42:04.682173Z"
    },
    "papermill": {
     "duration": 0.037122,
     "end_time": "2024-07-10T14:42:04.685621",
     "exception": false,
     "start_time": "2024-07-10T14:42:04.648499",
     "status": "completed"
    },
    "tags": []
   },
   "outputs": [],
   "source": [
    "def reduce_mem_usage(df):\n",
    "    \"\"\" iterate through all the columns of a dataframe and modify the data type\n",
    "        to reduce memory usage.        \n",
    "    \"\"\"\n",
    "    start_mem = df.memory_usage().sum() / 1024**2\n",
    "    print('Memory usage of dataframe is {:.2f} MB'.format(start_mem))\n",
    "    \n",
    "    for col in df.columns:\n",
    "        col_type = df[col].dtype\n",
    "        \n",
    "        if col_type != object:\n",
    "            c_min = df[col].min()\n",
    "            c_max = df[col].max()\n",
    "            if str(col_type)[:3] == 'int':\n",
    "                if c_min > np.iinfo(np.int8).min and c_max < np.iinfo(np.int8).max:\n",
    "                    df[col] = df[col].astype(np.int8)\n",
    "                elif c_min > np.iinfo(np.int16).min and c_max < np.iinfo(np.int16).max:\n",
    "                    df[col] = df[col].astype(np.int16)\n",
    "                elif c_min > np.iinfo(np.int32).min and c_max < np.iinfo(np.int32).max:\n",
    "                    df[col] = df[col].astype(np.int32)\n",
    "                elif c_min > np.iinfo(np.int64).min and c_max < np.iinfo(np.int64).max:\n",
    "                    df[col] = df[col].astype(np.int64)  \n",
    "            else:\n",
    "                if c_min > np.finfo(np.float16).min and c_max < np.finfo(np.float16).max:\n",
    "                    df[col] = df[col].astype(np.float16)\n",
    "                elif c_min > np.finfo(np.float32).min and c_max < np.finfo(np.float32).max:\n",
    "                    df[col] = df[col].astype(np.float32)\n",
    "                else:\n",
    "                    df[col] = df[col].astype(np.float64)\n",
    "        else:\n",
    "            df[col] = df[col].astype('object')\n",
    "\n",
    "    end_mem = df.memory_usage().sum() / 1024**2\n",
    "    print('Memory usage after optimization is: {:.2f} MB'.format(end_mem))\n",
    "    print('Decreased by {:.1f}%'.format(100 * (start_mem - end_mem) / start_mem))\n",
    "    \n",
    "    return df"
   ]
  },
  {
   "cell_type": "code",
   "execution_count": 50,
   "id": "d4c4b226",
   "metadata": {
    "execution": {
     "iopub.execute_input": "2024-07-10T14:42:04.727022Z",
     "iopub.status.busy": "2024-07-10T14:42:04.725830Z",
     "iopub.status.idle": "2024-07-10T14:42:05.116683Z",
     "shell.execute_reply": "2024-07-10T14:42:05.115500Z"
    },
    "papermill": {
     "duration": 0.413785,
     "end_time": "2024-07-10T14:42:05.118944",
     "exception": false,
     "start_time": "2024-07-10T14:42:04.705159",
     "status": "completed"
    },
    "tags": []
   },
   "outputs": [
    {
     "name": "stdout",
     "output_type": "stream",
     "text": [
      "Memory usage of dataframe is 965.52 MB\n",
      "Memory usage after optimization is: 175.55 MB\n",
      "Decreased by 81.8%\n",
      "<class 'pandas.core.frame.DataFrame'>\n",
      "RangeIndex: 11504798 entries, 0 to 11504797\n",
      "Data columns (total 11 columns):\n",
      " #   Column                Dtype\n",
      "---  ------                -----\n",
      " 0   Gender                int8 \n",
      " 1   Age                   int8 \n",
      " 2   Driving_License       int8 \n",
      " 3   Region_Code           int8 \n",
      " 4   Previously_Insured    int8 \n",
      " 5   Vehicle_Age           int8 \n",
      " 6   Vehicle_Damage        int8 \n",
      " 7   Annual_Premium        int32\n",
      " 8   Policy_Sales_Channel  int16\n",
      " 9   Vintage               int16\n",
      " 10  Response              int8 \n",
      "dtypes: int16(2), int32(1), int8(8)\n",
      "memory usage: 175.5 MB\n"
     ]
    }
   ],
   "source": [
    "train = reduce_mem_usage(train)\n",
    "train.info()"
   ]
  },
  {
   "cell_type": "code",
   "execution_count": 51,
   "id": "cf9b97b9",
   "metadata": {
    "execution": {
     "iopub.execute_input": "2024-07-10T14:42:05.161379Z",
     "iopub.status.busy": "2024-07-10T14:42:05.160852Z",
     "iopub.status.idle": "2024-07-10T14:42:05.411405Z",
     "shell.execute_reply": "2024-07-10T14:42:05.410218Z"
    },
    "papermill": {
     "duration": 0.275519,
     "end_time": "2024-07-10T14:42:05.414004",
     "exception": false,
     "start_time": "2024-07-10T14:42:05.138485",
     "status": "completed"
    },
    "tags": []
   },
   "outputs": [
    {
     "name": "stdout",
     "output_type": "stream",
     "text": [
      "Memory usage of dataframe is 585.16 MB\n",
      "Memory usage after optimization is: 109.72 MB\n",
      "Decreased by 81.2%\n",
      "<class 'pandas.core.frame.DataFrame'>\n",
      "RangeIndex: 7669866 entries, 0 to 7669865\n",
      "Data columns (total 10 columns):\n",
      " #   Column                Dtype\n",
      "---  ------                -----\n",
      " 0   Gender                int8 \n",
      " 1   Age                   int8 \n",
      " 2   Driving_License       int8 \n",
      " 3   Region_Code           int8 \n",
      " 4   Previously_Insured    int8 \n",
      " 5   Vehicle_Age           int8 \n",
      " 6   Vehicle_Damage        int8 \n",
      " 7   Annual_Premium        int32\n",
      " 8   Policy_Sales_Channel  int16\n",
      " 9   Vintage               int16\n",
      "dtypes: int16(2), int32(1), int8(7)\n",
      "memory usage: 109.7 MB\n"
     ]
    }
   ],
   "source": [
    "test = reduce_mem_usage(test)\n",
    "test.info()"
   ]
  },
  {
   "cell_type": "code",
   "execution_count": 52,
   "id": "c295a904",
   "metadata": {
    "execution": {
     "iopub.execute_input": "2024-07-10T14:42:05.455752Z",
     "iopub.status.busy": "2024-07-10T14:42:05.455351Z",
     "iopub.status.idle": "2024-07-10T14:42:05.562453Z",
     "shell.execute_reply": "2024-07-10T14:42:05.561068Z"
    },
    "papermill": {
     "duration": 0.131097,
     "end_time": "2024-07-10T14:42:05.565139",
     "exception": false,
     "start_time": "2024-07-10T14:42:05.434042",
     "status": "completed"
    },
    "tags": []
   },
   "outputs": [
    {
     "data": {
      "text/plain": [
       "(164, 164, 150, 150)"
      ]
     },
     "execution_count": 52,
     "metadata": {},
     "output_type": "execute_result"
    }
   ],
   "source": [
    "train['Policy_Sales_Channel'].max()-train['Policy_Sales_Channel'].min(),test['Policy_Sales_Channel'].max()-test['Policy_Sales_Channel'].min(),len(test['Policy_Sales_Channel'].unique().tolist()),len(train['Policy_Sales_Channel'].unique().tolist())"
   ]
  },
  {
   "cell_type": "code",
   "execution_count": 53,
   "id": "37a0451e",
   "metadata": {
    "execution": {
     "iopub.execute_input": "2024-07-10T14:42:05.607389Z",
     "iopub.status.busy": "2024-07-10T14:42:05.606993Z",
     "iopub.status.idle": "2024-07-10T14:42:05.715493Z",
     "shell.execute_reply": "2024-07-10T14:42:05.714263Z"
    },
    "papermill": {
     "duration": 0.132727,
     "end_time": "2024-07-10T14:42:05.717997",
     "exception": false,
     "start_time": "2024-07-10T14:42:05.585270",
     "status": "completed"
    },
    "tags": []
   },
   "outputs": [
    {
     "data": {
      "text/plain": [
       "(52, 52, 53, 53)"
      ]
     },
     "execution_count": 53,
     "metadata": {},
     "output_type": "execute_result"
    }
   ],
   "source": [
    "train['Region_Code'].max()-train['Region_Code'].min(),test['Region_Code'].max()-test['Region_Code'].min(),len(test['Region_Code'].unique().tolist()),len(train['Region_Code'].unique().tolist())"
   ]
  },
  {
   "cell_type": "code",
   "execution_count": 54,
   "id": "6b4b1146",
   "metadata": {
    "execution": {
     "iopub.execute_input": "2024-07-10T14:42:05.760002Z",
     "iopub.status.busy": "2024-07-10T14:42:05.759612Z",
     "iopub.status.idle": "2024-07-10T14:42:06.547055Z",
     "shell.execute_reply": "2024-07-10T14:42:06.545806Z"
    },
    "papermill": {
     "duration": 0.811822,
     "end_time": "2024-07-10T14:42:06.549963",
     "exception": false,
     "start_time": "2024-07-10T14:42:05.738141",
     "status": "completed"
    },
    "tags": []
   },
   "outputs": [
    {
     "data": {
      "text/html": [
       "<div>\n",
       "<style scoped>\n",
       "    .dataframe tbody tr th:only-of-type {\n",
       "        vertical-align: middle;\n",
       "    }\n",
       "\n",
       "    .dataframe tbody tr th {\n",
       "        vertical-align: top;\n",
       "    }\n",
       "\n",
       "    .dataframe thead th {\n",
       "        text-align: right;\n",
       "    }\n",
       "</style>\n",
       "<table border=\"1\" class=\"dataframe\">\n",
       "  <thead>\n",
       "    <tr style=\"text-align: right;\">\n",
       "      <th></th>\n",
       "      <th>Region_Code</th>\n",
       "      <th>Policy_Sales_Channel</th>\n",
       "    </tr>\n",
       "  </thead>\n",
       "  <tbody>\n",
       "    <tr>\n",
       "      <th>count</th>\n",
       "      <td>11504798.0</td>\n",
       "      <td>11504798.0</td>\n",
       "    </tr>\n",
       "    <tr>\n",
       "      <th>mean</th>\n",
       "      <td>26.4</td>\n",
       "      <td>112.4</td>\n",
       "    </tr>\n",
       "    <tr>\n",
       "      <th>std</th>\n",
       "      <td>13.0</td>\n",
       "      <td>54.0</td>\n",
       "    </tr>\n",
       "    <tr>\n",
       "      <th>min</th>\n",
       "      <td>0.0</td>\n",
       "      <td>-1.0</td>\n",
       "    </tr>\n",
       "    <tr>\n",
       "      <th>25%</th>\n",
       "      <td>15.0</td>\n",
       "      <td>29.0</td>\n",
       "    </tr>\n",
       "    <tr>\n",
       "      <th>50%</th>\n",
       "      <td>28.0</td>\n",
       "      <td>151.0</td>\n",
       "    </tr>\n",
       "    <tr>\n",
       "      <th>75%</th>\n",
       "      <td>35.0</td>\n",
       "      <td>152.0</td>\n",
       "    </tr>\n",
       "    <tr>\n",
       "      <th>max</th>\n",
       "      <td>52.0</td>\n",
       "      <td>163.0</td>\n",
       "    </tr>\n",
       "  </tbody>\n",
       "</table>\n",
       "</div>"
      ],
      "text/plain": [
       "      Region_Code Policy_Sales_Channel\n",
       "count  11504798.0           11504798.0\n",
       "mean         26.4                112.4\n",
       "std          13.0                 54.0\n",
       "min           0.0                 -1.0\n",
       "25%          15.0                 29.0\n",
       "50%          28.0                151.0\n",
       "75%          35.0                152.0\n",
       "max          52.0                163.0"
      ]
     },
     "execution_count": 54,
     "metadata": {},
     "output_type": "execute_result"
    }
   ],
   "source": [
    "train[['Region_Code','Policy_Sales_Channel']].describe().apply(lambda s: s.apply('{0:.1f}'.format))"
   ]
  },
  {
   "cell_type": "code",
   "execution_count": 55,
   "id": "f0cba568",
   "metadata": {
    "execution": {
     "iopub.execute_input": "2024-07-10T14:42:06.594442Z",
     "iopub.status.busy": "2024-07-10T14:42:06.593961Z",
     "iopub.status.idle": "2024-07-10T14:42:07.099439Z",
     "shell.execute_reply": "2024-07-10T14:42:07.098161Z"
    },
    "papermill": {
     "duration": 0.531308,
     "end_time": "2024-07-10T14:42:07.102191",
     "exception": false,
     "start_time": "2024-07-10T14:42:06.570883",
     "status": "completed"
    },
    "tags": []
   },
   "outputs": [
    {
     "data": {
      "text/html": [
       "<div>\n",
       "<style scoped>\n",
       "    .dataframe tbody tr th:only-of-type {\n",
       "        vertical-align: middle;\n",
       "    }\n",
       "\n",
       "    .dataframe tbody tr th {\n",
       "        vertical-align: top;\n",
       "    }\n",
       "\n",
       "    .dataframe thead th {\n",
       "        text-align: right;\n",
       "    }\n",
       "</style>\n",
       "<table border=\"1\" class=\"dataframe\">\n",
       "  <thead>\n",
       "    <tr style=\"text-align: right;\">\n",
       "      <th></th>\n",
       "      <th>Region_Code</th>\n",
       "      <th>Policy_Sales_Channel</th>\n",
       "    </tr>\n",
       "  </thead>\n",
       "  <tbody>\n",
       "    <tr>\n",
       "      <th>count</th>\n",
       "      <td>7669866.0</td>\n",
       "      <td>7669866.0</td>\n",
       "    </tr>\n",
       "    <tr>\n",
       "      <th>mean</th>\n",
       "      <td>26.4</td>\n",
       "      <td>112.4</td>\n",
       "    </tr>\n",
       "    <tr>\n",
       "      <th>std</th>\n",
       "      <td>13.0</td>\n",
       "      <td>54.1</td>\n",
       "    </tr>\n",
       "    <tr>\n",
       "      <th>min</th>\n",
       "      <td>0.0</td>\n",
       "      <td>-1.0</td>\n",
       "    </tr>\n",
       "    <tr>\n",
       "      <th>25%</th>\n",
       "      <td>15.0</td>\n",
       "      <td>29.0</td>\n",
       "    </tr>\n",
       "    <tr>\n",
       "      <th>50%</th>\n",
       "      <td>28.0</td>\n",
       "      <td>151.0</td>\n",
       "    </tr>\n",
       "    <tr>\n",
       "      <th>75%</th>\n",
       "      <td>35.0</td>\n",
       "      <td>152.0</td>\n",
       "    </tr>\n",
       "    <tr>\n",
       "      <th>max</th>\n",
       "      <td>52.0</td>\n",
       "      <td>163.0</td>\n",
       "    </tr>\n",
       "  </tbody>\n",
       "</table>\n",
       "</div>"
      ],
      "text/plain": [
       "      Region_Code Policy_Sales_Channel\n",
       "count   7669866.0            7669866.0\n",
       "mean         26.4                112.4\n",
       "std          13.0                 54.1\n",
       "min           0.0                 -1.0\n",
       "25%          15.0                 29.0\n",
       "50%          28.0                151.0\n",
       "75%          35.0                152.0\n",
       "max          52.0                163.0"
      ]
     },
     "execution_count": 55,
     "metadata": {},
     "output_type": "execute_result"
    }
   ],
   "source": [
    "test[['Region_Code','Policy_Sales_Channel']].describe().apply(lambda s: s.apply('{0:.1f}'.format))"
   ]
  },
  {
   "cell_type": "code",
   "execution_count": 56,
   "id": "4ddc5200",
   "metadata": {
    "execution": {
     "iopub.execute_input": "2024-07-10T14:42:07.144654Z",
     "iopub.status.busy": "2024-07-10T14:42:07.144212Z",
     "iopub.status.idle": "2024-07-10T14:43:01.372146Z",
     "shell.execute_reply": "2024-07-10T14:43:01.370553Z"
    },
    "papermill": {
     "duration": 54.252993,
     "end_time": "2024-07-10T14:43:01.375534",
     "exception": false,
     "start_time": "2024-07-10T14:42:07.122541",
     "status": "completed"
    },
    "tags": []
   },
   "outputs": [],
   "source": [
    "train.to_csv('./train.csv',index=False)\n",
    "test.to_csv('./test.csv',index=False)"
   ]
  }
 ],
 "metadata": {
  "kaggle": {
   "accelerator": "none",
   "dataSources": [
    {
     "databundleVersionId": 8930475,
     "sourceId": 73291,
     "sourceType": "competition"
    }
   ],
   "dockerImageVersionId": 30732,
   "isGpuEnabled": false,
   "isInternetEnabled": true,
   "language": "python",
   "sourceType": "notebook"
  },
  "kernelspec": {
   "display_name": "Python 3",
   "language": "python",
   "name": "python3"
  },
  "language_info": {
   "codemirror_mode": {
    "name": "ipython",
    "version": 3
   },
   "file_extension": ".py",
   "mimetype": "text/x-python",
   "name": "python",
   "nbconvert_exporter": "python",
   "pygments_lexer": "ipython3",
   "version": "3.10.13"
  },
  "papermill": {
   "default_parameters": {},
   "duration": 141.552881,
   "end_time": "2024-07-10T14:43:02.323423",
   "environment_variables": {},
   "exception": null,
   "input_path": "__notebook__.ipynb",
   "output_path": "__notebook__.ipynb",
   "parameters": {},
   "start_time": "2024-07-10T14:40:40.770542",
   "version": "2.5.0"
  }
 },
 "nbformat": 4,
 "nbformat_minor": 5
}
